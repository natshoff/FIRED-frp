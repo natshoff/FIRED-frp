{
 "cells": [
  {
   "cell_type": "markdown",
   "id": "fa0ffac3",
   "metadata": {},
   "source": [
    "# **FRP Code Workflow Notebook**\n",
    "\n",
    "### **Purpose**\n",
    "Calculate cumulatve fire radiative power (cumFRP in W/Km^2) from an active fire detection source (AFD), for a specific area of interest (AOI), using a fire perimeter data set to bound detection.\n",
    "\n",
    "### **Inputs**\n",
    "**Active Fire Detection:** VIIRS\n",
    "\n",
    "**Area of interest (AOI):** Southern Rockies Ecoregion\n",
    "\n",
    "**Fire Perimeters:** Welty & Jeffries\n",
    "\n",
    "### **Outputs**\n",
    "[WIP]\n",
    "\n",
    "### **Author Acknowledgement**\n",
    "Maxwell Cook (maxwell.cook@colorado.edu) created the original workflow and methods for aggregating FRP\n",
    "\n",
    "Nate Hofford (nate.hofford@colorado.edu) modified this original workflow to be compatible with various AFDs, AOIs, and fire perimeters"
   ]
  },
  {
   "cell_type": "markdown",
   "id": "e350d226",
   "metadata": {},
   "source": [
    "## **Step 0: Set working directory and import python libraries**"
   ]
  },
  {
   "cell_type": "code",
   "execution_count": 17,
   "id": "96ecc696-cd36-4140-b719-df8bcf5c6a9c",
   "metadata": {
    "editable": true,
    "slideshow": {
     "slide_type": ""
    },
    "tags": []
   },
   "outputs": [
    {
     "name": "stdout",
     "output_type": "stream",
     "text": [
      "Current working directory: /Users/nphfi/Desktop/FRP\n",
      "Ready !\n"
     ]
    }
   ],
   "source": [
    "## Imports\n",
    "import sys, os, math\n",
    "import xarray as xr\n",
    "import geopandas as gpd\n",
    "import fiona # specific for reading in .gpd files (like Welty and Jeffries)\n",
    "import pandas as pd\n",
    "import datetime as dt\n",
    "import matplotlib.pyplot as plt\n",
    "import seaborn as sns\n",
    "import rasterio as rio\n",
    "import re\n",
    "\n",
    "from datetime import datetime, timedelta\n",
    "from matplotlib import pyplot as plt\n",
    "from rasterio.features import rasterize\n",
    "from tqdm.notebook import tqdm\n",
    "\n",
    "# Custom functions\n",
    "sys.path.append(os.path.join(os.getcwd(),'code/'))\n",
    "from __functions import *\n",
    "\n",
    "\n",
    "## Projection information\n",
    "geog = 'EPSG:4326'  # Geographic projection\n",
    "prj = 'EPSG:5070'  # Projected coordinate system- WGS 84 NAD83 UTM Zone 13N\n",
    "\n",
    "\n",
    "## Working directories\n",
    "# File path information\n",
    "projdir = '/Users/nphfi/Desktop/FRP/'\n",
    "os.chdir(projdir)\n",
    "print(f\"Current working directory:\", os.getcwd())\n",
    "\n",
    "# Output directories\n",
    "dataAFD = os.path.join(projdir,'data/output/AFD')\n",
    "dataFires = os.path.join(projdir,'data/output/firePerimeters')\n",
    "\n",
    "# You done and this is good to go\n",
    "print(\"Ready !\")"
   ]
  },
  {
   "cell_type": "code",
   "execution_count": 11,
   "id": "d82d6892-66d3-4e5d-ad61-c35e5a972f28",
   "metadata": {},
   "outputs": [],
   "source": [
    "## Code to re-run if there were any edits to the __functions.py file\n",
    "import importlib\n",
    "import __functions\n",
    "importlib.reload(__functions)\n",
    "from __functions import *  # re-import everything"
   ]
  },
  {
   "cell_type": "code",
   "execution_count": 12,
   "id": "2924ee77-116c-42ec-a734-20a122446c35",
   "metadata": {},
   "outputs": [
    {
     "ename": "DataSourceError",
     "evalue": "/Users/nphfi/Desktop/FRP/data/spatial/raw/boundaries/na_cec_eco_l3_srme.gpkg: No such file or directory",
     "output_type": "error",
     "traceback": [
      "\u001b[0;31m---------------------------------------------------------------------------\u001b[0m",
      "\u001b[0;31mDataSourceError\u001b[0m                           Traceback (most recent call last)",
      "Cell \u001b[0;32mIn[12], line 4\u001b[0m\n\u001b[1;32m      1\u001b[0m \u001b[38;5;66;03m# Southern Rockies ecoregion bounds (buffered)\u001b[39;00m\n\u001b[1;32m      2\u001b[0m \u001b[38;5;66;03m# SRM layer CRS --> EPSG:5070\u001b[39;00m\n\u001b[1;32m      3\u001b[0m fp \u001b[38;5;241m=\u001b[39m os\u001b[38;5;241m.\u001b[39mpath\u001b[38;5;241m.\u001b[39mjoin(projdir,\u001b[38;5;124m'\u001b[39m\u001b[38;5;124mdata/spatial/raw/boundaries/na_cec_eco_l3_srme.gpkg\u001b[39m\u001b[38;5;124m'\u001b[39m)\n\u001b[0;32m----> 4\u001b[0m srm \u001b[38;5;241m=\u001b[39m gpd\u001b[38;5;241m.\u001b[39mread_file(fp)\n\u001b[1;32m      5\u001b[0m \u001b[38;5;66;03m# calculate the total bounds with a 10km buffer\u001b[39;00m\n\u001b[1;32m      6\u001b[0m bounds \u001b[38;5;241m=\u001b[39m srm\u001b[38;5;241m.\u001b[39mgeometry\u001b[38;5;241m.\u001b[39munary_union\u001b[38;5;241m.\u001b[39menvelope\u001b[38;5;241m.\u001b[39mbuffer(\u001b[38;5;241m10000\u001b[39m) \u001b[38;5;66;03m# buffer in m\u001b[39;00m\n",
      "File \u001b[0;32m/opt/anaconda3/lib/python3.12/site-packages/geopandas/io/file.py:294\u001b[0m, in \u001b[0;36m_read_file\u001b[0;34m(filename, bbox, mask, columns, rows, engine, **kwargs)\u001b[0m\n\u001b[1;32m    291\u001b[0m             from_bytes \u001b[38;5;241m=\u001b[39m \u001b[38;5;28;01mTrue\u001b[39;00m\n\u001b[1;32m    293\u001b[0m \u001b[38;5;28;01mif\u001b[39;00m engine \u001b[38;5;241m==\u001b[39m \u001b[38;5;124m\"\u001b[39m\u001b[38;5;124mpyogrio\u001b[39m\u001b[38;5;124m\"\u001b[39m:\n\u001b[0;32m--> 294\u001b[0m     \u001b[38;5;28;01mreturn\u001b[39;00m _read_file_pyogrio(\n\u001b[1;32m    295\u001b[0m         filename, bbox\u001b[38;5;241m=\u001b[39mbbox, mask\u001b[38;5;241m=\u001b[39mmask, columns\u001b[38;5;241m=\u001b[39mcolumns, rows\u001b[38;5;241m=\u001b[39mrows, \u001b[38;5;241m*\u001b[39m\u001b[38;5;241m*\u001b[39mkwargs\n\u001b[1;32m    296\u001b[0m     )\n\u001b[1;32m    298\u001b[0m \u001b[38;5;28;01melif\u001b[39;00m engine \u001b[38;5;241m==\u001b[39m \u001b[38;5;124m\"\u001b[39m\u001b[38;5;124mfiona\u001b[39m\u001b[38;5;124m\"\u001b[39m:\n\u001b[1;32m    299\u001b[0m     \u001b[38;5;28;01mif\u001b[39;00m pd\u001b[38;5;241m.\u001b[39mapi\u001b[38;5;241m.\u001b[39mtypes\u001b[38;5;241m.\u001b[39mis_file_like(filename):\n",
      "File \u001b[0;32m/opt/anaconda3/lib/python3.12/site-packages/geopandas/io/file.py:547\u001b[0m, in \u001b[0;36m_read_file_pyogrio\u001b[0;34m(path_or_bytes, bbox, mask, rows, **kwargs)\u001b[0m\n\u001b[1;32m    538\u001b[0m     warnings\u001b[38;5;241m.\u001b[39mwarn(\n\u001b[1;32m    539\u001b[0m         \u001b[38;5;124m\"\u001b[39m\u001b[38;5;124mThe \u001b[39m\u001b[38;5;124m'\u001b[39m\u001b[38;5;124minclude_fields\u001b[39m\u001b[38;5;124m'\u001b[39m\u001b[38;5;124m and \u001b[39m\u001b[38;5;124m'\u001b[39m\u001b[38;5;124mignore_fields\u001b[39m\u001b[38;5;124m'\u001b[39m\u001b[38;5;124m keywords are deprecated, and \u001b[39m\u001b[38;5;124m\"\u001b[39m\n\u001b[1;32m    540\u001b[0m         \u001b[38;5;124m\"\u001b[39m\u001b[38;5;124mwill be removed in a future release. You can use the \u001b[39m\u001b[38;5;124m'\u001b[39m\u001b[38;5;124mcolumns\u001b[39m\u001b[38;5;124m'\u001b[39m\u001b[38;5;124m keyword \u001b[39m\u001b[38;5;124m\"\u001b[39m\n\u001b[0;32m   (...)\u001b[0m\n\u001b[1;32m    543\u001b[0m         stacklevel\u001b[38;5;241m=\u001b[39m\u001b[38;5;241m3\u001b[39m,\n\u001b[1;32m    544\u001b[0m     )\n\u001b[1;32m    545\u001b[0m     kwargs[\u001b[38;5;124m\"\u001b[39m\u001b[38;5;124mcolumns\u001b[39m\u001b[38;5;124m\"\u001b[39m] \u001b[38;5;241m=\u001b[39m kwargs\u001b[38;5;241m.\u001b[39mpop(\u001b[38;5;124m\"\u001b[39m\u001b[38;5;124minclude_fields\u001b[39m\u001b[38;5;124m\"\u001b[39m)\n\u001b[0;32m--> 547\u001b[0m \u001b[38;5;28;01mreturn\u001b[39;00m pyogrio\u001b[38;5;241m.\u001b[39mread_dataframe(path_or_bytes, bbox\u001b[38;5;241m=\u001b[39mbbox, \u001b[38;5;241m*\u001b[39m\u001b[38;5;241m*\u001b[39mkwargs)\n",
      "File \u001b[0;32m/opt/anaconda3/lib/python3.12/site-packages/pyogrio/geopandas.py:265\u001b[0m, in \u001b[0;36mread_dataframe\u001b[0;34m(path_or_buffer, layer, encoding, columns, read_geometry, force_2d, skip_features, max_features, where, bbox, mask, fids, sql, sql_dialect, fid_as_index, use_arrow, on_invalid, arrow_to_pandas_kwargs, **kwargs)\u001b[0m\n\u001b[1;32m    260\u001b[0m \u001b[38;5;28;01mif\u001b[39;00m \u001b[38;5;129;01mnot\u001b[39;00m use_arrow:\n\u001b[1;32m    261\u001b[0m     \u001b[38;5;66;03m# For arrow, datetimes are read as is.\u001b[39;00m\n\u001b[1;32m    262\u001b[0m     \u001b[38;5;66;03m# For numpy IO, datetimes are read as string values to preserve timezone info\u001b[39;00m\n\u001b[1;32m    263\u001b[0m     \u001b[38;5;66;03m# as numpy does not directly support timezones.\u001b[39;00m\n\u001b[1;32m    264\u001b[0m     kwargs[\u001b[38;5;124m\"\u001b[39m\u001b[38;5;124mdatetime_as_string\u001b[39m\u001b[38;5;124m\"\u001b[39m] \u001b[38;5;241m=\u001b[39m \u001b[38;5;28;01mTrue\u001b[39;00m\n\u001b[0;32m--> 265\u001b[0m result \u001b[38;5;241m=\u001b[39m read_func(\n\u001b[1;32m    266\u001b[0m     path_or_buffer,\n\u001b[1;32m    267\u001b[0m     layer\u001b[38;5;241m=\u001b[39mlayer,\n\u001b[1;32m    268\u001b[0m     encoding\u001b[38;5;241m=\u001b[39mencoding,\n\u001b[1;32m    269\u001b[0m     columns\u001b[38;5;241m=\u001b[39mcolumns,\n\u001b[1;32m    270\u001b[0m     read_geometry\u001b[38;5;241m=\u001b[39mread_geometry,\n\u001b[1;32m    271\u001b[0m     force_2d\u001b[38;5;241m=\u001b[39mgdal_force_2d,\n\u001b[1;32m    272\u001b[0m     skip_features\u001b[38;5;241m=\u001b[39mskip_features,\n\u001b[1;32m    273\u001b[0m     max_features\u001b[38;5;241m=\u001b[39mmax_features,\n\u001b[1;32m    274\u001b[0m     where\u001b[38;5;241m=\u001b[39mwhere,\n\u001b[1;32m    275\u001b[0m     bbox\u001b[38;5;241m=\u001b[39mbbox,\n\u001b[1;32m    276\u001b[0m     mask\u001b[38;5;241m=\u001b[39mmask,\n\u001b[1;32m    277\u001b[0m     fids\u001b[38;5;241m=\u001b[39mfids,\n\u001b[1;32m    278\u001b[0m     sql\u001b[38;5;241m=\u001b[39msql,\n\u001b[1;32m    279\u001b[0m     sql_dialect\u001b[38;5;241m=\u001b[39msql_dialect,\n\u001b[1;32m    280\u001b[0m     return_fids\u001b[38;5;241m=\u001b[39mfid_as_index,\n\u001b[1;32m    281\u001b[0m     \u001b[38;5;241m*\u001b[39m\u001b[38;5;241m*\u001b[39mkwargs,\n\u001b[1;32m    282\u001b[0m )\n\u001b[1;32m    284\u001b[0m \u001b[38;5;28;01mif\u001b[39;00m use_arrow:\n\u001b[1;32m    285\u001b[0m     meta, table \u001b[38;5;241m=\u001b[39m result\n",
      "File \u001b[0;32m/opt/anaconda3/lib/python3.12/site-packages/pyogrio/raw.py:198\u001b[0m, in \u001b[0;36mread\u001b[0;34m(path_or_buffer, layer, encoding, columns, read_geometry, force_2d, skip_features, max_features, where, bbox, mask, fids, sql, sql_dialect, return_fids, datetime_as_string, **kwargs)\u001b[0m\n\u001b[1;32m     59\u001b[0m \u001b[38;5;250m\u001b[39m\u001b[38;5;124;03m\"\"\"Read OGR data source into numpy arrays.\u001b[39;00m\n\u001b[1;32m     60\u001b[0m \n\u001b[1;32m     61\u001b[0m \u001b[38;5;124;03mIMPORTANT: non-linear geometry types (e.g., MultiSurface) are converted\u001b[39;00m\n\u001b[0;32m   (...)\u001b[0m\n\u001b[1;32m    194\u001b[0m \n\u001b[1;32m    195\u001b[0m \u001b[38;5;124;03m\"\"\"\u001b[39;00m\n\u001b[1;32m    196\u001b[0m dataset_kwargs \u001b[38;5;241m=\u001b[39m _preprocess_options_key_value(kwargs) \u001b[38;5;28;01mif\u001b[39;00m kwargs \u001b[38;5;28;01melse\u001b[39;00m {}\n\u001b[0;32m--> 198\u001b[0m \u001b[38;5;28;01mreturn\u001b[39;00m ogr_read(\n\u001b[1;32m    199\u001b[0m     get_vsi_path_or_buffer(path_or_buffer),\n\u001b[1;32m    200\u001b[0m     layer\u001b[38;5;241m=\u001b[39mlayer,\n\u001b[1;32m    201\u001b[0m     encoding\u001b[38;5;241m=\u001b[39mencoding,\n\u001b[1;32m    202\u001b[0m     columns\u001b[38;5;241m=\u001b[39mcolumns,\n\u001b[1;32m    203\u001b[0m     read_geometry\u001b[38;5;241m=\u001b[39mread_geometry,\n\u001b[1;32m    204\u001b[0m     force_2d\u001b[38;5;241m=\u001b[39mforce_2d,\n\u001b[1;32m    205\u001b[0m     skip_features\u001b[38;5;241m=\u001b[39mskip_features,\n\u001b[1;32m    206\u001b[0m     max_features\u001b[38;5;241m=\u001b[39mmax_features \u001b[38;5;129;01mor\u001b[39;00m \u001b[38;5;241m0\u001b[39m,\n\u001b[1;32m    207\u001b[0m     where\u001b[38;5;241m=\u001b[39mwhere,\n\u001b[1;32m    208\u001b[0m     bbox\u001b[38;5;241m=\u001b[39mbbox,\n\u001b[1;32m    209\u001b[0m     mask\u001b[38;5;241m=\u001b[39m_mask_to_wkb(mask),\n\u001b[1;32m    210\u001b[0m     fids\u001b[38;5;241m=\u001b[39mfids,\n\u001b[1;32m    211\u001b[0m     sql\u001b[38;5;241m=\u001b[39msql,\n\u001b[1;32m    212\u001b[0m     sql_dialect\u001b[38;5;241m=\u001b[39msql_dialect,\n\u001b[1;32m    213\u001b[0m     return_fids\u001b[38;5;241m=\u001b[39mreturn_fids,\n\u001b[1;32m    214\u001b[0m     dataset_kwargs\u001b[38;5;241m=\u001b[39mdataset_kwargs,\n\u001b[1;32m    215\u001b[0m     datetime_as_string\u001b[38;5;241m=\u001b[39mdatetime_as_string,\n\u001b[1;32m    216\u001b[0m )\n",
      "File \u001b[0;32mpyogrio/_io.pyx:1240\u001b[0m, in \u001b[0;36mpyogrio._io.ogr_read\u001b[0;34m()\u001b[0m\n",
      "File \u001b[0;32mpyogrio/_io.pyx:220\u001b[0m, in \u001b[0;36mpyogrio._io.ogr_open\u001b[0;34m()\u001b[0m\n",
      "\u001b[0;31mDataSourceError\u001b[0m: /Users/nphfi/Desktop/FRP/data/spatial/raw/boundaries/na_cec_eco_l3_srme.gpkg: No such file or directory"
     ]
    }
   ],
   "source": [
    "# Southern Rockies ecoregion bounds (buffered)\n",
    "# SRM layer CRS --> EPSG:5070\n",
    "fp = os.path.join(projdir,'data/spatial/raw/boundaries/na_cec_eco_l3_srme.gpkg')\n",
    "srm = gpd.read_file(fp)\n",
    "# calculate the total bounds with a 10km buffer\n",
    "bounds = srm.geometry.unary_union.envelope.buffer(10000) # buffer in m\n",
    "srm.geometry.unary_union"
   ]
  },
  {
   "cell_type": "code",
   "execution_count": 5,
   "id": "1160f724-1e0e-4174-b373-0d55fce64044",
   "metadata": {},
   "outputs": [
    {
     "name": "stdout",
     "output_type": "stream",
     "text": [
      "Available layers: ['USGS_Wildland_Fire_Combined_Dataset', 'USGS_Wildland_Fires_Overlapping_Fire_Data', 'USGS_Wildland_Fire_Merged_Dataset']\n",
      "Index(['USGS_Assigned_ID', 'Assigned_Fire_Type', 'Fire_Year',\n",
      "       'Fire_Polygon_Tier', 'Fire_Attribute_Tiers', 'GIS_Acres',\n",
      "       'GIS_Hectares', 'Source_Datasets', 'Listed_Fire_Types',\n",
      "       'Listed_Fire_Names', 'Listed_Fire_Codes', 'Listed_Fire_IDs',\n",
      "       'Listed_Fire_IRWIN_IDs', 'Listed_Fire_Dates', 'Listed_Fire_Causes',\n",
      "       'Listed_Fire_Cause_Class', 'Listed_Rx_Reported_Acres',\n",
      "       'Listed_Map_Digitize_Methods', 'Listed_Notes', 'Processing_Notes',\n",
      "       'Wildfire_Notice', 'Prescribed_Burn_Notice', 'Wildfire_and_Rx_Flag',\n",
      "       'Overlap_Within_1_or_2_Flag', 'Circleness_Scale', 'Circle_Flag',\n",
      "       'Exclude_From_Summary_Rasters', 'Shape_Length', 'Shape_Area',\n",
      "       'geometry'],\n",
      "      dtype='object')\n"
     ]
    }
   ],
   "source": [
    "## Used Welty and Jeffries CONUS perimeters\n",
    "# Load and tidy the fire perimeter data\n",
    "fp = os.path.join(projdir,'data/spatial/mod/Fire_Feature_Data_ArcMap10x.gdb/Fire_Feature_Data_v10.gdb')\n",
    "\n",
    "# List all layers in the GDB to identify the correct one\n",
    "layers = fiona.listlayers(fp)\n",
    "print(\"Available layers:\", layers)\n",
    "\n",
    "# We want the 'combined' fire layer\n",
    "combined = 'USGS_Wildland_Fire_Combined_Dataset'\n",
    "merged = 'USGS_Wildland_Fire_Merged_Dataset'\n",
    "\n",
    "# Load the layer as our fire perimeters\n",
    "fires_all = gpd.read_file(fp, layer=combined)\n",
    "\n",
    "# Check column names to adapt downstream code\n",
    "print(fires_all.columns)"
   ]
  },
  {
   "cell_type": "code",
   "execution_count": 6,
   "id": "3c9997b9-11e1-4be3-bf05-e09e14f3de06",
   "metadata": {},
   "outputs": [
    {
     "name": "stdout",
     "output_type": "stream",
     "text": [
      "0    Listed Other Fire Date(s): 2006-11-02 - NIFC D...\n",
      "1    Listed Other Fire Date(s): 2006-11-02 - NIFC D...\n",
      "2    Listed Other Fire Date(s): 2006-11-02 - NIFC D...\n",
      "3    Listed Other Fire Date(s): 2017-01-30 - NIFC D...\n",
      "4                                                     \n",
      "Name: Listed_Fire_Dates, dtype: object\n",
      "['Listed Other Fire Date(s): 2006-11-02 - NIFC DATE_CUR field (1)', 'Listed Other Fire Date(s): 2006-11-02 - NIFC DATE_CUR field (1)', 'Listed Other Fire Date(s): 2006-11-02 - NIFC DATE_CUR field (1)', 'Listed Other Fire Date(s): 2017-01-30 - NIFC DATE_CUR field (1)', '']\n"
     ]
    }
   ],
   "source": [
    "# Show the first few rows\n",
    "print(fires_all['Listed_Fire_Dates'].head())\n",
    "print(fires_all['Listed_Fire_Dates'].head().to_list())"
   ]
  },
  {
   "cell_type": "code",
   "execution_count": 15,
   "id": "6bb252b1-f900-4b78-9808-e2c7e3d972c8",
   "metadata": {},
   "outputs": [
    {
     "name": "stdout",
     "output_type": "stream",
     "text": [
      "----- FIRE DATE EXPLORATION -----\n",
      "Total rows (2000–2024): 78130\n",
      "Rows with 'Listed Wildfire Discovery Date(s)': 31712\n",
      "Rows with 'Listed Wildfire Controlled Date(s)': 22076\n",
      "Rows with BOTH discovery and controlled: 20187\n",
      "Rows with 'Listed Ignition Date(s)': 10004\n",
      "Rows with ONLY ignition (not discovery): 4740\n",
      "Rows with BOTH ignition and discovery: 5264\n",
      "Rows with EITHER ignition or discovery: 36452\n",
      "\n",
      "-- Date Range (Controlled - Discovery) Stats --\n",
      "Count: 20065\n",
      "Mean: 13.94 days\n",
      "Median: 1.00 days\n",
      "Min: 0 days\n",
      "Max: 365 days\n"
     ]
    }
   ],
   "source": [
    "# Filter to rows in Fire_Year 2000–2024\n",
    "fires = fires_all[(fires_all['Fire_Year'] >= 2000) & (fires_all['Fire_Year'] <= 2024)].copy()\n",
    "\n",
    "# 1. Total number of rows\n",
    "total_rows = len(fires)\n",
    "\n",
    "# 2. Rows with 'Listed Wildfire Discovery Date(s):'\n",
    "mask_discovery = fires['Listed_Fire_Dates'].str.contains(\"Listed Wildfire Discovery Date\\\\(s\\\\):\", na=False)\n",
    "discovery_rows = mask_discovery.sum()\n",
    "\n",
    "# 3. Rows with 'Listed Wildfire Controlled Date(s):'\n",
    "mask_controlled = fires['Listed_Fire_Dates'].str.contains(\"Listed Wildfire Controlled Date\\\\(s\\\\):\", na=False)\n",
    "controlled_rows = mask_controlled.sum()\n",
    "\n",
    "# 4. Rows with both discovery and controlled\n",
    "both_rows = (mask_discovery & mask_controlled).sum()\n",
    "\n",
    "# 5. Rows with 'Listed Ignition Date(s):'\n",
    "mask_ignition = fires['Listed_Fire_Dates'].str.contains(\"Listed Ignition Date\\\\(s\\\\):\", na=False)\n",
    "ignition_rows = mask_ignition.sum()\n",
    "\n",
    "# 6. Rows with ONLY ignition (not discovery)\n",
    "only_ignition = (mask_ignition & ~mask_discovery).sum()\n",
    "\n",
    "# 7. Rows with both ignition and discovery\n",
    "both_ignition_discovery = (mask_ignition & mask_discovery).sum()\n",
    "\n",
    "# 8. Rows with wither ignition or discovery (contains a start date)\n",
    "or_ignition_discovery = (mask_ignition | mask_discovery).sum()\n",
    "\n",
    "# Descriptive stats for rows with both discovery and controlled\n",
    "def extract_dates_between_tags(text, tag):\n",
    "    \"\"\"Extract all dates from a specific section in the Listed_Fire_Dates string.\"\"\"\n",
    "    pattern = rf\"{tag}:([^\\|]+)\"\n",
    "    match = re.search(pattern, text)\n",
    "    if not match:\n",
    "        return []\n",
    "    date_str = match.group(1)\n",
    "    return re.findall(r'\\d{4}-\\d{2}-\\d{2}', date_str)\n",
    "\n",
    "# Filter rows with both\n",
    "fires_both = fires[mask_discovery & mask_controlled].copy()\n",
    "\n",
    "# Compute range (controlled - discovery)\n",
    "date_diffs = []\n",
    "for text in fires_both['Listed_Fire_Dates']:\n",
    "    disc_dates = extract_dates_between_tags(text, \"Listed Wildfire Discovery Date\\\\(s\\\\)\")\n",
    "    ctrl_dates = extract_dates_between_tags(text, \"Listed Wildfire Controlled Date\\\\(s\\\\)\")\n",
    "    \n",
    "    try:\n",
    "        disc_dates_parsed = [pd.to_datetime(d) for d in disc_dates]\n",
    "        ctrl_dates_parsed = [pd.to_datetime(d) for d in ctrl_dates]\n",
    "    except Exception:\n",
    "        continue  # skip if parsing fails\n",
    "\n",
    "    if disc_dates_parsed and ctrl_dates_parsed:\n",
    "        min_disc = min(disc_dates_parsed)\n",
    "        max_ctrl = max(ctrl_dates_parsed)\n",
    "        delta_days = (max_ctrl - min_disc).days\n",
    "        if delta_days >= 0:\n",
    "            date_diffs.append(delta_days)\n",
    "\n",
    "# Convert to pandas Series for descriptive stats\n",
    "date_diffs_series = pd.Series(date_diffs)\n",
    "\n",
    "# Output\n",
    "print(\"----- FIRE DATE EXPLORATION -----\")\n",
    "print(f\"Total rows (2000–2024): {total_rows}\")\n",
    "print(f\"Rows with 'Listed Wildfire Discovery Date(s)': {discovery_rows}\")\n",
    "print(f\"Rows with 'Listed Wildfire Controlled Date(s)': {controlled_rows}\")\n",
    "print(f\"Rows with BOTH discovery and controlled: {both_rows}\")\n",
    "print(f\"Rows with 'Listed Ignition Date(s)': {ignition_rows}\")\n",
    "print(f\"Rows with ONLY ignition (not discovery): {only_ignition}\")\n",
    "print(f\"Rows with BOTH ignition and discovery: {both_ignition_discovery}\")\n",
    "print(f\"Rows with EITHER ignition or discovery: {or_ignition_discovery}\")\n",
    "\n",
    "print(\"\\n-- Date Range (Controlled - Discovery) Stats --\")\n",
    "print(f\"Count: {len(date_diffs_series)}\")\n",
    "print(f\"Mean: {date_diffs_series.mean():.2f} days\")\n",
    "print(f\"Median: {date_diffs_series.median():.2f} days\")\n",
    "print(f\"Min: {date_diffs_series.min()} days\")\n",
    "print(f\"Max: {date_diffs_series.max()} days\")"
   ]
  },
  {
   "cell_type": "code",
   "execution_count": 16,
   "id": "278c7041-a173-4879-9611-95ac0626bd5e",
   "metadata": {},
   "outputs": [
    {
     "name": "stdout",
     "output_type": "stream",
     "text": [
      "----- FIRE TIME SUMMARY -----\n",
      "Total records: 78130\n",
      "Records with valid Fire_Start and Fire_End: 78130\n",
      "Records with missing Fire_Time (NA): 0\n",
      "\n",
      "-- Fire_Time Stats (in days) --\n",
      "Mean: 200.36\n",
      "Median: 364.00\n",
      "Min: 0\n",
      "Max: 376\n",
      "\n",
      "-- Fire_Time Flag Counts --\n",
      "Fire_Time_Flag\n",
      "Artificial start and end date    39841\n",
      "Artificial end date              16369\n",
      "Artificial fire start             1837\n",
      "Negative fire time                 156\n",
      "Outlier fire time                    1\n",
      "Name: count, dtype: int64\n"
     ]
    }
   ],
   "source": [
    "# Helper function to extract date lists from tagged sections\n",
    "def extract_dates_between_tags(text, tag):\n",
    "    pattern = rf\"{tag}:([^\\|]+)\"\n",
    "    match = re.search(pattern, text)\n",
    "    if not match:\n",
    "        return []\n",
    "    date_str = match.group(1)\n",
    "    return re.findall(r'\\d{4}-\\d{2}-\\d{2}', date_str)\n",
    "\n",
    "# Initialize new columns\n",
    "fires['Fire_Start'] = pd.NaT\n",
    "fires['Fire_End'] = pd.NaT\n",
    "fires['Fire_Time'] = pd.NA\n",
    "fires['Fire_Time_Flag'] = ''\n",
    "\n",
    "# Process each row\n",
    "for idx, row in fires.iterrows():\n",
    "    text = row['Listed_Fire_Dates']\n",
    "    year = row['Fire_Year']\n",
    "    flags = []\n",
    "\n",
    "    # Extract date lists\n",
    "    ignition_dates = extract_dates_between_tags(text, \"Listed Ignition Date\\\\(s\\\\)\") if pd.notna(text) else []\n",
    "    discovery_dates = extract_dates_between_tags(text, \"Listed Wildfire Discovery Date\\\\(s\\\\)\") if pd.notna(text) else []\n",
    "    controlled_dates = extract_dates_between_tags(text, \"Listed Wildfire Controlled Date\\\\(s\\\\)\") if pd.notna(text) else []\n",
    "\n",
    "    try:\n",
    "        ignition_parsed = [pd.to_datetime(d) for d in ignition_dates]\n",
    "    except:\n",
    "        ignition_parsed = []\n",
    "\n",
    "    try:\n",
    "        discovery_parsed = [pd.to_datetime(d) for d in discovery_dates]\n",
    "    except:\n",
    "        discovery_parsed = []\n",
    "\n",
    "    try:\n",
    "        controlled_parsed = [pd.to_datetime(d) for d in controlled_dates]\n",
    "    except:\n",
    "        controlled_parsed = []\n",
    "\n",
    "    # Choose start: prefer ignition over discovery\n",
    "    fire_start = None\n",
    "    if ignition_parsed:\n",
    "        fire_start = min(ignition_parsed)\n",
    "    elif discovery_parsed:\n",
    "        fire_start = min(discovery_parsed)\n",
    "\n",
    "    # Choose end\n",
    "    fire_end = max(controlled_parsed) if controlled_parsed else None\n",
    "\n",
    "    # Handle missing start\n",
    "    if fire_start is None:\n",
    "        if fire_end is not None:\n",
    "            fire_start = pd.to_datetime(f\"{year}-01-01\")\n",
    "            flags.append(\"Artificial fire start\")\n",
    "        else:\n",
    "            fire_start = pd.to_datetime(f\"{year}-01-01\")\n",
    "            fire_end = pd.to_datetime(f\"{year}-12-31\")\n",
    "            flags.append(\"Artificial start and end date\")\n",
    "\n",
    "    # Handle missing end (but valid start)\n",
    "    if fire_end is None and fire_start is not None:\n",
    "        fire_end = fire_start + pd.Timedelta(days=30)\n",
    "        flags.append(\"Artificial end date\")\n",
    "\n",
    "    # Assign start and end\n",
    "    fires.at[idx, 'Fire_Start'] = fire_start\n",
    "    fires.at[idx, 'Fire_End'] = fire_end\n",
    "    \n",
    "    # Compute duration\n",
    "    if pd.notna(fire_start) and pd.notna(fire_end):\n",
    "        delta = (fire_end - fire_start).days\n",
    "        if delta < 0:\n",
    "            flags.append(\"Negative fire time\")\n",
    "            fire_end = pd.to_datetime(f\"{year}-12-31\")\n",
    "            delta = (fire_end - fire_start).days\n",
    "            flags.append(\"Artificial end date\")\n",
    "        fires.at[idx, 'Fire_End'] = fire_end\n",
    "        fires.at[idx, 'Fire_Time'] = delta\n",
    "    else:\n",
    "        fires.at[idx, 'Fire_Time'] = delta\n",
    "\n",
    "    # Add flags\n",
    "    if flags:\n",
    "        fires.at[idx, 'Fire_Time_Flag'] = \" | \".join(flags)\n",
    "\n",
    "# Identify outliers\n",
    "fire_time_series = fires['Fire_Time'].dropna()\n",
    "p99 = fire_time_series.quantile(0.99)\n",
    "\n",
    "# Apply outlier flag\n",
    "fires.loc[\n",
    "    fires['Fire_Time'] > p99,\n",
    "    'Fire_Time_Flag'\n",
    "] = fires.loc[\n",
    "    fires['Fire_Time'] > p99,\n",
    "    'Fire_Time_Flag'\n",
    "].apply(lambda x: \"Outlier fire time\" if x == '' else x + \" | Outlier fire time\")\n",
    "\n",
    "# Summary stats\n",
    "valid_fire_times = fires['Fire_Time'].dropna()\n",
    "\n",
    "print(\"----- FIRE TIME SUMMARY -----\")\n",
    "print(f\"Total records: {len(fires)}\")\n",
    "print(f\"Records with valid Fire_Start and Fire_End: {valid_fire_times.count()}\")\n",
    "print(f\"Records with missing Fire_Time (NA): {(fires['Fire_Time'].isna()).sum()}\")\n",
    "\n",
    "print(\"\\n-- Fire_Time Stats (in days) --\")\n",
    "print(f\"Mean: {valid_fire_times.mean():.2f}\")\n",
    "print(f\"Median: {valid_fire_times.median():.2f}\")\n",
    "print(f\"Min: {valid_fire_times.min()}\")\n",
    "print(f\"Max: {valid_fire_times.max()}\")\n",
    "\n",
    "# ----- Flag Counts -----\n",
    "print(\"\\n-- Fire_Time Flag Counts --\")\n",
    "\n",
    "# Split by literal ' | ', flatten list of flags, count\n",
    "flag_series = fires['Fire_Time_Flag'].dropna()\n",
    "all_flags = flag_series[flag_series != ''].str.split(' | ', regex=False).explode()\n",
    "flag_counts = all_flags.value_counts()\n",
    "\n",
    "print(flag_counts)\n"
   ]
  },
  {
   "cell_type": "code",
   "execution_count": 17,
   "id": "4f8f2932-339b-4586-a109-5692e46704e9",
   "metadata": {},
   "outputs": [],
   "source": [
    "## Needed to change the columns here for W&J specific values\n",
    "\n",
    "# tidy the date columns\n",
    "## DISCOVERY_DATE\n",
    "fires['ig_date'] = pd.to_datetime(fires['Fire_Start'])\n",
    "## WF_CESSATION_DATE\n",
    "fires['last_date'] = pd.to_datetime(fires['Fire_End'])\n",
    "## Final_Acres = convert square m to square km\n",
    "fires['tot_ar_km2'] = fires['Shape_Area'].astype(float) / 1000\n",
    "## ICS_ACRES\n",
    "#fires['ICS_ACRES'] = fires['ICS_ACRES'].astype(float)\n",
    "\n",
    "# rename columns to match rest of code\n",
    "fires['id'] = fires['USGS_Assigned_ID']\n",
    "fires['ig_year'] = fires['Fire_Year']\n",
    "\n",
    "# subset the columns\n",
    "#fires = fires[['Fire_ID','Fire_Name','Final_Acres',\n",
    "#               'INCIDENT_ID','START_YEAR','DISCOVERY_DATE',\n",
    "#               'WF_CESSATION_DATE','ICS_ACRES','geometry']]\n",
    "\n",
    "# subset the columns\n",
    "fires = fires[['id','tot_ar_km2','ig_year','ig_date',\n",
    "               'last_date','geometry']]\n",
    "\n",
    "# remove any duplicates (the RYAN fire was duplicated for some reason)\n",
    "fires = fires.drop_duplicates(subset='id', keep='first')"
   ]
  },
  {
   "cell_type": "code",
   "execution_count": 20,
   "id": "7c79f3ea-1f5f-43c1-8a37-50f9859d308c",
   "metadata": {},
   "outputs": [
    {
     "name": "stdout",
     "output_type": "stream",
     "text": [
      "Filtered fires to 1581 records that intersect the Southern Rockies.\n"
     ]
    }
   ],
   "source": [
    "# Ensure the CRS matches between fires and SRM\n",
    "if fires.crs != srm.crs:\n",
    "    srm = srm.to_crs(fires.crs)\n",
    "\n",
    "# Create a single unified geometry for the SRM region (multi-polygon)\n",
    "srm_union = srm.geometry.unary_union\n",
    "\n",
    "# Filter fires to those that intersect the Southern Rockies\n",
    "fires_srm = fires[fires.geometry.intersects(srm_union)].copy()\n",
    "\n",
    "print(f\"Filtered fires to {len(fires_srm)} records that intersect the Southern Rockies.\")\n"
   ]
  },
  {
   "cell_type": "code",
   "execution_count": 21,
   "id": "cd2bf125",
   "metadata": {},
   "outputs": [
    {
     "name": "stdout",
     "output_type": "stream",
     "text": [
      "Buffered 1581 wildfire perimeters by 3.0 km.\n"
     ]
    }
   ],
   "source": [
    "# Now buffer only the relevant geometries\n",
    "buffer_dist = 3000  # meters\n",
    "fires_srm['geometry'] = fires_srm.geometry.buffer(buffer_dist)\n",
    "\n",
    "print(f\"Buffered {len(fires_srm)} wildfire perimeters by {buffer_dist/1000} km.\")"
   ]
  },
  {
   "cell_type": "code",
   "execution_count": null,
   "id": "9c2b0986",
   "metadata": {},
   "outputs": [],
   "source": [
    "# Add a 3km buffer to wildfire perimeters\n",
    "#buffer_dist = 3000  # meters\n",
    "# take the convex hull, apply the buffer\n",
    "#fires['geometry'] = fires['geometry'].buffer(buffer_dist)\n",
    "#print(f\"Buffered fire perimeters by {buffer_dist} meters.\")\n",
    "#print(f\"There are {len(fires)} in the Southern Rockies Welty & Jeffries census (2000-2024)\")"
   ]
  },
  {
   "cell_type": "code",
   "execution_count": 23,
   "id": "11cd0950-51b3-4026-bafe-f0752ae18857",
   "metadata": {},
   "outputs": [],
   "source": [
    "fires_srm.to_file(os.path.join(datamod,\"fires_wj_buffered.gpkg\"))"
   ]
  },
  {
   "cell_type": "code",
   "execution_count": 24,
   "id": "d88442dc-d433-4ef3-9d09-62f082e96755",
   "metadata": {},
   "outputs": [
    {
     "name": "stdout",
     "output_type": "stream",
     "text": [
      "   latitude  longitude  brightness  scan  track    acq_date  acq_time  \\\n",
      "0  41.89173  -83.35799      312.67  0.43   0.38  2025-02-01       713   \n",
      "1  41.73209  -83.52107      295.03  0.44   0.38  2025-02-01       713   \n",
      "2  41.46272  -81.67390      329.13  0.39   0.36  2025-02-01       713   \n",
      "3  41.45276  -81.67643      320.67  0.39   0.36  2025-02-01       713   \n",
      "4  43.31004  -85.30531      302.98  0.53   0.42  2025-02-01       713   \n",
      "\n",
      "  satellite instrument confidence version  bright_t31   frp daynight  \n",
      "0       N20      VIIRS          n  2.0NRT      271.58  2.04        N  \n",
      "1       N20      VIIRS          n  2.0NRT      267.56  0.32        N  \n",
      "2       N20      VIIRS          n  2.0NRT      275.70  6.29        N  \n",
      "3       N20      VIIRS          n  2.0NRT      272.05  1.76        N  \n",
      "4       N20      VIIRS          n  2.0NRT      266.21  0.70        N  \n"
     ]
    }
   ],
   "source": [
    "# Display csv to see data structure\n",
    "df = pd.read_csv(\"data/FIRMS/fire_nrt_J1V-C2_603779.csv\")\n",
    "\n",
    "# Show the first few rows\n",
    "print(df.head())"
   ]
  },
  {
   "cell_type": "code",
   "execution_count": 25,
   "id": "53bf2605-abea-42cf-afcf-cd8d62ce7cf0",
   "metadata": {
    "editable": true,
    "slideshow": {
     "slide_type": ""
    },
    "tags": []
   },
   "outputs": [
    {
     "name": "stdout",
     "output_type": "stream",
     "text": [
      "Number of duplicates in J1V-C2: 0\n",
      "Number of duplicates in SV-C2: 6\n",
      "All satellite data processed and deduplicated successfully!\n"
     ]
    }
   ],
   "source": [
    "# File paths for the NRT and Archive data files\n",
    "nrt_files = {\n",
    "    'J1V-C2': 'data/FIRMS/fire_nrt_J1V-C2_603779.csv',\n",
    "    'J2V-C2': 'data/FIRMS/fire_nrt_J2V-C2_603780.csv',\n",
    "    'SV-C2': 'data/FIRMS/fire_nrt_SV-C2_603781.csv'\n",
    "}\n",
    "\n",
    "archive_files = {\n",
    "    'J1V-C2': 'data/FIRMS/fire_archive_J1V-C2_603779.csv',\n",
    "    'SV-C2': 'data/FIRMS/fire_archive_SV-C2_603781.csv'\n",
    "}\n",
    "\n",
    "# Function to process and deduplicate data files within each satellite\n",
    "def process_and_deduplicate(nrt_file, archive_file, satellite_type):\n",
    "    # Read the NRT and Archive data files\n",
    "    nrt_data = pd.read_csv(nrt_file)\n",
    "    archive_data = pd.read_csv(archive_file)\n",
    "\n",
    "    # Add source and satellite type columns\n",
    "    nrt_data['source'] = 'NRT'\n",
    "    archive_data['source'] = 'Archive'\n",
    "    nrt_data['satellite_type'] = satellite_type\n",
    "    archive_data['satellite_type'] = satellite_type\n",
    "\n",
    "    # Concatenate NRT and Archive data\n",
    "    combined_data = pd.concat([nrt_data, archive_data])\n",
    "\n",
    "    # Format acquisition time to HHMM and convert date + time to datetime\n",
    "    combined_data['acq_time'] = combined_data['acq_time'].astype(str).str.zfill(4)\n",
    "    combined_data['acq_datetime'] = pd.to_datetime(\n",
    "        combined_data['acq_date'].astype(str) + ' ' +\n",
    "        combined_data['acq_time'].str[:2] + ':' +\n",
    "        combined_data['acq_time'].str[2:] + ':00',\n",
    "        format='%Y-%m-%d %H:%M:%S'\n",
    "    )\n",
    "\n",
    "    # Count duplicates before removing them\n",
    "    duplicates_mask = combined_data.duplicated(subset=['latitude', 'longitude', 'acq_datetime'], keep=False)\n",
    "    duplicates_count = duplicates_mask.sum()\n",
    "    print(f\"Number of duplicates in {satellite_type}: {duplicates_count}\")\n",
    "\n",
    "    # Deduplicate, prioritizing Archive data\n",
    "    deduplicated_data = combined_data.sort_values(by=['acq_datetime', 'source'], ascending=[False, True])\n",
    "    deduplicated_data = deduplicated_data.drop_duplicates(subset=['latitude', 'longitude', 'acq_datetime'], keep='first')\n",
    "\n",
    "    return deduplicated_data\n",
    "\n",
    "# Process each satellite type\n",
    "deduplicated_datasets = []\n",
    "\n",
    "for satellite_type, nrt_file in nrt_files.items():\n",
    "    archive_file = archive_files.get(satellite_type)\n",
    "    if archive_file:\n",
    "        deduplicated_data = process_and_deduplicate(nrt_file, archive_file, satellite_type)\n",
    "        deduplicated_datasets.append(deduplicated_data)\n",
    "\n",
    "# Combine all deduplicated datasets\n",
    "VIIRS_cat = pd.concat(deduplicated_datasets)\n",
    "\n",
    "# Save the final deduplicated dataset\n",
    "VIIRS_cat.to_csv('data/spatial/raw/VIIRS/VIIRS_cat.csv', index=False)\n",
    "\n",
    "print(\"All satellite data processed and deduplicated successfully!\")"
   ]
  },
  {
   "cell_type": "code",
   "execution_count": 26,
   "id": "23b3c912-ac42-4981-a1d3-4985af100ebc",
   "metadata": {},
   "outputs": [
    {
     "name": "stdout",
     "output_type": "stream",
     "text": [
      "        latitude  longitude  brightness  scan  track    acq_date acq_time  \\\n",
      "110009  41.82554  -70.64477      351.24  0.63   0.54  2025-04-17     1650   \n",
      "110010  40.23703  -76.38818      325.76  0.67   0.74  2025-04-17     1650   \n",
      "110011  40.24114  -76.38847      336.06  0.67   0.74  2025-04-17     1650   \n",
      "110012  41.19677  -74.56175      336.02  0.51   0.66  2025-04-17     1650   \n",
      "110013  41.20029  -74.57194      335.38  0.51   0.66  2025-04-17     1650   \n",
      "\n",
      "       satellite instrument confidence version  bright_t31    frp daynight  \\\n",
      "110009       N20      VIIRS          n  2.0NRT      297.71  25.15        D   \n",
      "110010       N20      VIIRS          n  2.0NRT      285.73   6.69        D   \n",
      "110011       N20      VIIRS          n  2.0NRT      285.67   7.40        D   \n",
      "110012       N20      VIIRS          n  2.0NRT      289.68   3.64        D   \n",
      "110013       N20      VIIRS          n  2.0NRT      291.17   3.64        D   \n",
      "\n",
      "       source satellite_type  type        acq_datetime  \n",
      "110009    NRT         J1V-C2   NaN 2025-04-17 16:50:00  \n",
      "110010    NRT         J1V-C2   NaN 2025-04-17 16:50:00  \n",
      "110011    NRT         J1V-C2   NaN 2025-04-17 16:50:00  \n",
      "110012    NRT         J1V-C2   NaN 2025-04-17 16:50:00  \n",
      "110013    NRT         J1V-C2   NaN 2025-04-17 16:50:00  \n",
      "Column 10 name: version\n",
      "Unique values in column 10: ['2.0NRT' 2]\n",
      "Data types in column 10:\n",
      "version\n",
      "<class 'int'>    10445627\n",
      "<class 'str'>      220797\n",
      "Name: count, dtype: int64\n"
     ]
    }
   ],
   "source": [
    "print(VIIRS_cat.head())\n",
    "\n",
    "# First, let's look at the name of column 9\n",
    "col_name = VIIRS_cat.columns[10]\n",
    "print(f\"Column 10 name: {col_name}\")\n",
    "\n",
    "# Show unique values\n",
    "unique_vals = VIIRS_cat[col_name].unique()\n",
    "print(f\"Unique values in column 10: {unique_vals}\")\n",
    "\n",
    "# Optionally, show value types (can be handy if types are mixed)\n",
    "types_in_col = VIIRS_cat[col_name].map(type).value_counts()\n",
    "print(\"Data types in column 10:\")\n",
    "print(types_in_col)\n"
   ]
  },
  {
   "cell_type": "code",
   "execution_count": 27,
   "id": "0a9789df-2f68-4e51-9d89-53cef724d850",
   "metadata": {},
   "outputs": [
    {
     "name": "stdout",
     "output_type": "stream",
     "text": [
      "Number of fire detections: 10666424\n"
     ]
    },
    {
     "data": {
      "text/plain": [
       "latitude          float64\n",
       "longitude         float64\n",
       "brightness        float64\n",
       "scan              float64\n",
       "track             float64\n",
       "acq_date           object\n",
       "acq_time            int64\n",
       "satellite          object\n",
       "instrument         object\n",
       "confidence         object\n",
       "version            object\n",
       "bright_t31        float64\n",
       "frp               float64\n",
       "daynight           object\n",
       "source             object\n",
       "satellite_type     object\n",
       "type              float64\n",
       "acq_datetime       object\n",
       "dtype: object"
      ]
     },
     "execution_count": 27,
     "metadata": {},
     "output_type": "execute_result"
    }
   ],
   "source": [
    "# load the AFD data from the VIIRS censors\n",
    "fp = os.path.join(dataraw, 'VIIRS_cat.csv')\n",
    "afds = pd.read_csv(fp, dtype={'version': str}).reset_index(drop=True)\n",
    "afds = afds.loc[:, ~afds.columns.str.startswith('Unnamed:')]\n",
    "print(f\"Number of fire detections: {len(afds)}\")\n",
    "afds.dtypes"
   ]
  },
  {
   "cell_type": "code",
   "execution_count": 28,
   "id": "73de4225-ac37-468b-93ee-384ed4f8fed7",
   "metadata": {},
   "outputs": [
    {
     "name": "stdout",
     "output_type": "stream",
     "text": [
      "confidence\n",
      "n    9628438\n",
      "h     580529\n",
      "l     457457\n",
      "Name: count, dtype: int64\n",
      "\n",
      "Dropped 457457 [4.29%] low-confidence obs.\n",
      "\n"
     ]
    }
   ],
   "source": [
    "# drop low confidence detections\n",
    "\n",
    "## NH: potentially keep this step or keep all the fires and allow people to filter after by keeping the confidence column\n",
    "N = len(afds)\n",
    "print(afds['confidence'].value_counts())\n",
    "afds = afds[afds['confidence'] != 'l']\n",
    "print(f\"\\nDropped {N-len(afds)} [{round(((N-len(afds))/N)*100,2)}%] low-confidence obs.\\n\")"
   ]
  },
  {
   "cell_type": "code",
   "execution_count": 29,
   "id": "74507701-7088-4739-91c8-39be8ca04834",
   "metadata": {
    "editable": true,
    "slideshow": {
     "slide_type": ""
    },
    "tags": []
   },
   "outputs": [
    {
     "name": "stdout",
     "output_type": "stream",
     "text": [
      "   longitude  latitude confidence    frp    acq_date  acq_time daynight  \\\n",
      "0  -70.64477  41.82554          n  25.15  2025-04-17      1650        D   \n",
      "1  -76.38818  40.23703          n   6.69  2025-04-17      1650        D   \n",
      "2  -76.38847  40.24114          n   7.40  2025-04-17      1650        D   \n",
      "3  -74.56175  41.19677          n   3.64  2025-04-17      1650        D   \n",
      "4  -74.57194  41.20029          n   3.64  2025-04-17      1650        D   \n",
      "\n",
      "  satellite  \n",
      "0       N20  \n",
      "1       N20  \n",
      "2       N20  \n",
      "3       N20  \n",
      "4       N20  \n",
      "\n",
      "[221968(2.17%)] detections in the Southern Rockies.\n",
      "['latitude', 'longitude', 'brightness', 'scan', 'track', 'acq_date', 'acq_time', 'satellite', 'instrument', 'confidence', 'version', 'bright_t31', 'frp', 'daynight', 'source', 'satellite_type', 'type', 'acq_datetime', 'geometry', 'afdID']\n",
      "\n",
      "Saved spatial points to: /Users/nphfi/Desktop/FRP/data/spatial/mod/VIIRS/viirs_snpp_jpss1_afd_latlon_srm.gpkg\n",
      "\n"
     ]
    }
   ],
   "source": [
    "# Create spatial points from lat/lon\n",
    "from shapely.geometry import Point\n",
    "\n",
    "# convert to spatial points using pixel centroid\n",
    "afds['geometry'] = [Point(xy) for xy in zip(afds.longitude, afds.latitude)]\n",
    "afds_ll = gpd.GeoDataFrame(afds, geometry='geometry', crs=\"EPSG:4326\")\n",
    "afds_ll = afds_ll.to_crs(\"EPSG:5070\")\n",
    "afds_ll = afds_ll.reset_index(drop=True)\n",
    "afds_ll['afdID'] = afds_ll.index # add a unique ID\n",
    "print(afds_ll[['longitude', 'latitude', 'confidence', 'frp', 'acq_date', 'acq_time', 'daynight', 'satellite']].head())\n",
    "\n",
    "# spatially subset the SRM extent\n",
    "afds_ll = afds_ll[afds_ll.geometry.within(bounds)]\n",
    "print(f\"\\n[{len(afds_ll)}({round(len(afds_ll)/len(afds)*100,2)}%)] detections in the Southern Rockies.\")\n",
    "\n",
    "print(afds_ll.columns.tolist())\n",
    "\n",
    "\n",
    "# save this file out.\n",
    "## Do a spatial join with these points to see the % that overlaps with FIRED perims\n",
    "out_fp = os.path.join(datamod,'viirs_snpp_jpss1_afd_latlon_srm.gpkg')\n",
    "afds_ll.to_file(out_fp)\n",
    "print(f\"\\nSaved spatial points to: {out_fp}\\n\")"
   ]
  },
  {
   "cell_type": "code",
   "execution_count": 31,
   "id": "5d39b7ce-792b-456a-a0d1-2a4f197b8997",
   "metadata": {},
   "outputs": [
    {
     "name": "stdout",
     "output_type": "stream",
     "text": [
      "\n",
      "Resolving [0/0] duplicate obs.\n",
      "\n"
     ]
    },
    {
     "ename": "ValueError",
     "evalue": "Cannot set a DataFrame with multiple columns to the single column acq_dt_mst",
     "output_type": "error",
     "traceback": [
      "\u001b[0;31m---------------------------------------------------------------------------\u001b[0m",
      "\u001b[0;31mValueError\u001b[0m                                Traceback (most recent call last)",
      "\u001b[0;32m/var/folders/21/4yszsw7s11b02c41pch6vnr00000gn/T/ipykernel_39017/88225074.py\u001b[0m in \u001b[0;36m?\u001b[0;34m()\u001b[0m\n\u001b[1;32m     14\u001b[0m \u001b[0;34m\u001b[0m\u001b[0m\n\u001b[1;32m     15\u001b[0m \u001b[0;31m# create an acquisition datetime column\u001b[0m\u001b[0;34m\u001b[0m\u001b[0;34m\u001b[0m\u001b[0m\n\u001b[1;32m     16\u001b[0m \u001b[0;31m# set the time in MST as well\u001b[0m\u001b[0;34m\u001b[0m\u001b[0;34m\u001b[0m\u001b[0m\n\u001b[1;32m     17\u001b[0m \u001b[0;31m# see __functions.py\u001b[0m\u001b[0;34m\u001b[0m\u001b[0;34m\u001b[0m\u001b[0m\n\u001b[0;32m---> 18\u001b[0;31m afds_ll_fires['acq_dt_mst'] = afds_ll_fires.apply(\n\u001b[0m\u001b[1;32m     19\u001b[0m     lambda row: convert_datetime(\n\u001b[1;32m     20\u001b[0m         \u001b[0mrow\u001b[0m\u001b[0;34m[\u001b[0m\u001b[0;34m'acq_date'\u001b[0m\u001b[0;34m]\u001b[0m\u001b[0;34m,\u001b[0m\u001b[0;34m\u001b[0m\u001b[0;34m\u001b[0m\u001b[0m\n\u001b[1;32m     21\u001b[0m         \u001b[0mrow\u001b[0m\u001b[0;34m[\u001b[0m\u001b[0;34m'acq_time'\u001b[0m\u001b[0;34m]\u001b[0m\u001b[0;34m,\u001b[0m\u001b[0;34m\u001b[0m\u001b[0;34m\u001b[0m\u001b[0m\n",
      "\u001b[0;32m/opt/anaconda3/lib/python3.12/site-packages/geopandas/geodataframe.py\u001b[0m in \u001b[0;36m?\u001b[0;34m(self, key, value)\u001b[0m\n\u001b[1;32m   1815\u001b[0m                 warnings.warn(\n\u001b[1;32m   1816\u001b[0m                     \u001b[0;34m\"Geometry column does not contain geometry.\"\u001b[0m\u001b[0;34m,\u001b[0m\u001b[0;34m\u001b[0m\u001b[0;34m\u001b[0m\u001b[0m\n\u001b[1;32m   1817\u001b[0m                     \u001b[0mstacklevel\u001b[0m\u001b[0;34m=\u001b[0m\u001b[0;36m2\u001b[0m\u001b[0;34m,\u001b[0m\u001b[0;34m\u001b[0m\u001b[0;34m\u001b[0m\u001b[0m\n\u001b[1;32m   1818\u001b[0m                 \u001b[0;34m)\u001b[0m\u001b[0;34m\u001b[0m\u001b[0;34m\u001b[0m\u001b[0m\n\u001b[0;32m-> 1819\u001b[0;31m         \u001b[0msuper\u001b[0m\u001b[0;34m(\u001b[0m\u001b[0;34m)\u001b[0m\u001b[0;34m.\u001b[0m\u001b[0m__setitem__\u001b[0m\u001b[0;34m(\u001b[0m\u001b[0mkey\u001b[0m\u001b[0;34m,\u001b[0m \u001b[0mvalue\u001b[0m\u001b[0;34m)\u001b[0m\u001b[0;34m\u001b[0m\u001b[0;34m\u001b[0m\u001b[0m\n\u001b[0m",
      "\u001b[0;32m/opt/anaconda3/lib/python3.12/site-packages/pandas/core/frame.py\u001b[0m in \u001b[0;36m?\u001b[0;34m(self, key, value)\u001b[0m\n\u001b[1;32m   4297\u001b[0m             \u001b[0mself\u001b[0m\u001b[0;34m.\u001b[0m\u001b[0m_setitem_frame\u001b[0m\u001b[0;34m(\u001b[0m\u001b[0mkey\u001b[0m\u001b[0;34m,\u001b[0m \u001b[0mvalue\u001b[0m\u001b[0;34m)\u001b[0m\u001b[0;34m\u001b[0m\u001b[0;34m\u001b[0m\u001b[0m\n\u001b[1;32m   4298\u001b[0m         \u001b[0;32melif\u001b[0m \u001b[0misinstance\u001b[0m\u001b[0;34m(\u001b[0m\u001b[0mkey\u001b[0m\u001b[0;34m,\u001b[0m \u001b[0;34m(\u001b[0m\u001b[0mSeries\u001b[0m\u001b[0;34m,\u001b[0m \u001b[0mnp\u001b[0m\u001b[0;34m.\u001b[0m\u001b[0mndarray\u001b[0m\u001b[0;34m,\u001b[0m \u001b[0mlist\u001b[0m\u001b[0;34m,\u001b[0m \u001b[0mIndex\u001b[0m\u001b[0;34m)\u001b[0m\u001b[0;34m)\u001b[0m\u001b[0;34m:\u001b[0m\u001b[0;34m\u001b[0m\u001b[0;34m\u001b[0m\u001b[0m\n\u001b[1;32m   4299\u001b[0m             \u001b[0mself\u001b[0m\u001b[0;34m.\u001b[0m\u001b[0m_setitem_array\u001b[0m\u001b[0;34m(\u001b[0m\u001b[0mkey\u001b[0m\u001b[0;34m,\u001b[0m \u001b[0mvalue\u001b[0m\u001b[0;34m)\u001b[0m\u001b[0;34m\u001b[0m\u001b[0;34m\u001b[0m\u001b[0m\n\u001b[1;32m   4300\u001b[0m         \u001b[0;32melif\u001b[0m \u001b[0misinstance\u001b[0m\u001b[0;34m(\u001b[0m\u001b[0mvalue\u001b[0m\u001b[0;34m,\u001b[0m \u001b[0mDataFrame\u001b[0m\u001b[0;34m)\u001b[0m\u001b[0;34m:\u001b[0m\u001b[0;34m\u001b[0m\u001b[0;34m\u001b[0m\u001b[0m\n\u001b[0;32m-> 4301\u001b[0;31m             \u001b[0mself\u001b[0m\u001b[0;34m.\u001b[0m\u001b[0m_set_item_frame_value\u001b[0m\u001b[0;34m(\u001b[0m\u001b[0mkey\u001b[0m\u001b[0;34m,\u001b[0m \u001b[0mvalue\u001b[0m\u001b[0;34m)\u001b[0m\u001b[0;34m\u001b[0m\u001b[0;34m\u001b[0m\u001b[0m\n\u001b[0m\u001b[1;32m   4302\u001b[0m         elif (\n\u001b[1;32m   4303\u001b[0m             \u001b[0mis_list_like\u001b[0m\u001b[0;34m(\u001b[0m\u001b[0mvalue\u001b[0m\u001b[0;34m)\u001b[0m\u001b[0;34m\u001b[0m\u001b[0;34m\u001b[0m\u001b[0m\n\u001b[1;32m   4304\u001b[0m             \u001b[0;32mand\u001b[0m \u001b[0;32mnot\u001b[0m \u001b[0mself\u001b[0m\u001b[0;34m.\u001b[0m\u001b[0mcolumns\u001b[0m\u001b[0;34m.\u001b[0m\u001b[0mis_unique\u001b[0m\u001b[0;34m\u001b[0m\u001b[0;34m\u001b[0m\u001b[0m\n",
      "\u001b[0;32m/opt/anaconda3/lib/python3.12/site-packages/pandas/core/frame.py\u001b[0m in \u001b[0;36m?\u001b[0;34m(self, key, value)\u001b[0m\n\u001b[1;32m   4455\u001b[0m \u001b[0;34m\u001b[0m\u001b[0m\n\u001b[1;32m   4456\u001b[0m             \u001b[0;32mreturn\u001b[0m \u001b[0mself\u001b[0m\u001b[0;34m.\u001b[0m\u001b[0misetitem\u001b[0m\u001b[0;34m(\u001b[0m\u001b[0mlocs\u001b[0m\u001b[0;34m,\u001b[0m \u001b[0mvalue\u001b[0m\u001b[0;34m)\u001b[0m\u001b[0;34m\u001b[0m\u001b[0;34m\u001b[0m\u001b[0m\n\u001b[1;32m   4457\u001b[0m \u001b[0;34m\u001b[0m\u001b[0m\n\u001b[1;32m   4458\u001b[0m         \u001b[0;32mif\u001b[0m \u001b[0mlen\u001b[0m\u001b[0;34m(\u001b[0m\u001b[0mvalue\u001b[0m\u001b[0;34m.\u001b[0m\u001b[0mcolumns\u001b[0m\u001b[0;34m)\u001b[0m \u001b[0;34m>\u001b[0m \u001b[0;36m1\u001b[0m\u001b[0;34m:\u001b[0m\u001b[0;34m\u001b[0m\u001b[0;34m\u001b[0m\u001b[0m\n\u001b[0;32m-> 4459\u001b[0;31m             raise ValueError(\n\u001b[0m\u001b[1;32m   4460\u001b[0m                 \u001b[0;34m\"Cannot set a DataFrame with multiple columns to the single \"\u001b[0m\u001b[0;34m\u001b[0m\u001b[0;34m\u001b[0m\u001b[0m\n\u001b[1;32m   4461\u001b[0m                 \u001b[0;34mf\"\u001b[0m\u001b[0;34mcolumn \u001b[0m\u001b[0;34m{\u001b[0m\u001b[0mkey\u001b[0m\u001b[0;34m}\u001b[0m\u001b[0;34m\"\u001b[0m\u001b[0;34m\u001b[0m\u001b[0;34m\u001b[0m\u001b[0m\n\u001b[1;32m   4462\u001b[0m             \u001b[0;34m)\u001b[0m\u001b[0;34m\u001b[0m\u001b[0;34m\u001b[0m\u001b[0m\n",
      "\u001b[0;31mValueError\u001b[0m: Cannot set a DataFrame with multiple columns to the single column acq_dt_mst"
     ]
    }
   ],
   "source": [
    "# spatially join to the fire perimeters\n",
    "# retain a subset of fire columns in the join\n",
    "afds_ll_fires = gpd.sjoin(\n",
    "    afds_ll, fires_srm[['id','tot_ar_km2','ig_year','ig_date',\n",
    "               'last_date','geometry']], \n",
    "    how='inner', \n",
    "    predicate='within'\n",
    ").drop(columns=['index_right']) # drop the join index column\n",
    "\n",
    "# check for duplicate rows (same AFD, multiple fires)\n",
    "## NH: removing the smallest duplicate appropriate or is there a better way to handle these VIIRS duplictes?\n",
    "duplicates = afds_ll_fires[afds_ll_fires.duplicated(subset='afdID', keep=False)]\n",
    "print(f\"\\nResolving [{len(duplicates)}/{len(afds_ll_fires)}] duplicate obs.\\n\")\n",
    "\n",
    "# create an acquisition datetime column\n",
    "# set the time in MST as well\n",
    "# see __functions.py\n",
    "afds_ll_fires['acq_dt_mst'] = afds_ll_fires.apply(\n",
    "    lambda row: convert_datetime(\n",
    "        row['acq_date'], \n",
    "        row['acq_time'], \n",
    "        zone='America/Denver' # MST\n",
    "    ), axis=1\n",
    ")\n",
    "\n",
    "# tidy & prep the temporal information\n",
    "afds_ll_fires['acq_date'] = pd.to_datetime(afds_ll_fires['acq_date'])\n",
    "afds_ll_fires['acq_month'] = afds_ll_fires['acq_date'].dt.month.astype(int) # extract the month\n",
    "afds_ll_fires['acq_year'] = afds_ll_fires['acq_date'].dt.year.astype(int) # extract the year\n",
    "# filter the AFDs by temporal matches to their fire event\n",
    "# identify observations within 14 days of ignition/cessation\n",
    "afds_ll_fires = afds_ll_fires[\n",
    "    (afds_ll_fires['acq_date'] >= afds_ll_fires['ig_date'] - timedelta(days=14)) &\n",
    "    (afds_ll_fires['acq_date'] <= afds_ll_fires['last_date'] + timedelta(days=14))\n",
    "]\n",
    "\n",
    "print(afds_ll_fires.columns.tolist())\n",
    "\n",
    "# re-check duplicates\n",
    "duplicates = afds_ll_fires[afds_ll_fires.duplicated(subset='afdID', keep=False)]\n",
    "print(f\"\\t[{len(duplicates)}] remaining duplicate 'afdID'.\\n\")\n",
    "del duplicates\n",
    "gc.collect()"
   ]
  },
  {
   "cell_type": "code",
   "execution_count": 16,
   "id": "0e1a0fc4-35bb-45d7-8556-69182afcf983",
   "metadata": {},
   "outputs": [
    {
     "name": "stdout",
     "output_type": "stream",
     "text": [
      "\t[18782] remaining duplicate 'afdID'.\n",
      "\n"
     ]
    }
   ],
   "source": [
    "duplicates = afds_ll_fires[afds_ll_fires.duplicated(subset='afdID', keep=False)]\n",
    "print(f\"\\t[{len(duplicates)}] remaining duplicate 'afdID'.\\n\")\n",
    "duplicates.to_file(os.path.join(datamod,\"duplicate_afds.gpkg\"))"
   ]
  },
  {
   "cell_type": "code",
   "execution_count": 17,
   "id": "e8082e42-874e-49e8-aeee-edeba8c0f2aa",
   "metadata": {},
   "outputs": [
    {
     "name": "stdout",
     "output_type": "stream",
     "text": [
      "\n",
      "First MST datetime for 'Day': 11:40:00\n",
      "Last MST datetime for 'Day': 15:24:00\n",
      "\n",
      "First MST datetime for 'Night': 01:01:00\n",
      "Last MST datetime for 'Night': 04:25:00\n",
      "\n"
     ]
    },
    {
     "data": {
      "text/plain": [
       "52"
      ]
     },
     "execution_count": 17,
     "metadata": {},
     "output_type": "execute_result"
    }
   ],
   "source": [
    "# print out the day/night times in MST\n",
    "day_obs = afds_ll_fires[afds_ll_fires['daynight'] == 'D']\n",
    "day_obs['acq_time_mst'] = day_obs['acq_dt_mst'].dt.time\n",
    "print(f\"\\nFirst MST datetime for 'Day': {day_obs['acq_time_mst'].min()}\")\n",
    "print(f\"Last MST datetime for 'Day': {day_obs['acq_time_mst'].max()}\\n\")\n",
    "\n",
    "# check on nighttime datetimes\n",
    "night_obs = afds_ll_fires[afds_ll_fires['daynight'] == 'N']\n",
    "night_obs['acq_time_mst'] = night_obs['acq_dt_mst'].dt.time\n",
    "print(f\"First MST datetime for 'Night': {night_obs['acq_time_mst'].min()}\")\n",
    "print(f\"Last MST datetime for 'Night': {night_obs['acq_time_mst'].max()}\\n\")\n",
    "del night_obs, day_obs\n",
    "gc.collect()"
   ]
  },
  {
   "cell_type": "code",
   "execution_count": 18,
   "id": "36115ecb-a575-4acf-a4f4-23fcd9a6bb0f",
   "metadata": {},
   "outputs": [
    {
     "name": "stdout",
     "output_type": "stream",
     "text": [
      "\n",
      "Number of unique (FIRED id, acq_datetime) groups: 7505\n",
      "\n",
      "Identified [15877 (8.74%)] duplicates.\n",
      "\n",
      "\t[164972] remaining detections.\n",
      "\n"
     ]
    }
   ],
   "source": [
    "# handle duplicates caused by the adjacent scan overlap\n",
    "from scipy.spatial import cKDTree # for distance matrix\n",
    "# same datetime, distance between detections smaller than the along_track distance\n",
    "drop_obs = set() # unique detections to drop\n",
    "# Group observations by Fire_ID and acquisition datetime\n",
    "## Changed to identify by FIRED id which is just an integer\n",
    "dt_groups = afds_ll_fires.groupby(['id', 'acq_dt_mst'])\n",
    "print(f\"\\nNumber of unique (FIRED id, acq_datetime) groups: {len(dt_groups)}\\n\")\n",
    "\n",
    "# process the datetime groups\n",
    "def process_afd_duplicates(group):\n",
    "    \"\"\"Identify duplicates in a FIRED id/datetime group using KDTree\"\"\"\n",
    "    if len(group) <= 1:\n",
    "        return  # Skip groups with a single point\n",
    "    # Extract point coordinates and thresholds\n",
    "    coords = np.array([[geom.x, geom.y] for geom in group.geometry])\n",
    "    thresholds = group['track'].values / 2 * 1000  # Convert along-track distance to meters\n",
    "    # Build a KDTree for the group points\n",
    "    tree = cKDTree(coords)\n",
    "\n",
    "    # Query KDTree for neighbors within the maximum threshold distance\n",
    "    for i, (coord, threshold) in enumerate(zip(coords, thresholds)):\n",
    "        if group.iloc[i]['afdID'] in drop_obs:\n",
    "            continue  # Skip already marked duplicates\n",
    "        \n",
    "        # Find neighbors within the threshold distance\n",
    "        neighbor_idxs = tree.query_ball_point(coord, threshold)\n",
    "\n",
    "        # Compare with neighbors and flag duplicates\n",
    "        for j in neighbor_idxs:\n",
    "            if i == j or group.iloc[j]['afdID'] in drop_obs:\n",
    "                continue  # Skip self-comparison and already marked duplicates\n",
    "            \n",
    "            # Compare FRP values to determine which detection to drop\n",
    "            if group.iloc[j]['frp'] < group.iloc[i]['frp']:\n",
    "                drop_obs.add(group.iloc[j]['afdID'])  # Drop the neighbor\n",
    "            else:\n",
    "                drop_obs.add(group.iloc[i]['afdID'])  # Drop the current point\n",
    "                break  # Stop further checks for this point\n",
    "\n",
    "# Process each group efficiently\n",
    "for (fire_id, datetime), group in dt_groups:\n",
    "    process_afd_duplicates(group)\n",
    "print(f\"Identified [{len(drop_obs)} ({round(len(drop_obs)/len(afds_ll_fires)*100,2)}%)] duplicates.\\n\")\n",
    "# Remove duplicates from processing\n",
    "afds_ll_fires = afds_ll_fires[~afds_ll_fires['afdID'].isin(drop_obs)]\n",
    "print(f\"\\t[{len(afds_ll_fires)}] remaining detections.\\n\")"
   ]
  },
  {
   "cell_type": "code",
   "execution_count": 19,
   "id": "8a225da1-763c-45a3-98f8-67257c44fa83",
   "metadata": {},
   "outputs": [
    {
     "name": "stdout",
     "output_type": "stream",
     "text": [
      "      id  count\n",
      "0  31777     24\n",
      "1  31798      3\n",
      "2  31813    823\n",
      "3  31836    610\n",
      "4  31842     42\n",
      "Index(['id', 'count'], dtype='object')\n",
      "\n",
      " count    164972.000000\n",
      "mean       7060.990229\n",
      "std        7306.548114\n",
      "min           1.000000\n",
      "25%        1094.000000\n",
      "50%        3834.000000\n",
      "75%       10871.000000\n",
      "max       20716.000000\n",
      "Name: count, dtype: float64 \n",
      "\n",
      "10th percentile count: 263.0 \n",
      "\n"
     ]
    },
    {
     "data": {
      "image/png": "[encoded data removed]",
      "text/plain": [
       "<Figure size 500x300 with 1 Axes>"
      ]
     },
     "metadata": {},
     "output_type": "display_data"
    }
   ],
   "source": [
    "# grab a count of observations for each fire\n",
    "counts = afds_ll_fires.groupby(['id']).size().reset_index(name='count')\n",
    "\n",
    "print(counts.head())\n",
    "print(counts.columns)\n",
    "\n",
    "afds_ll_fires = pd.merge(afds_ll_fires, counts, on='id', how='left')\n",
    "\n",
    "# print some statistics\n",
    "print(\"\\n\", afds_ll_fires['count'].describe(), \"\\n\")\n",
    "print(f\"10th percentile count: {afds_ll_fires['count'].quantile(0.10)}\", \"\\n\") \n",
    "\n",
    "# plot the distribution\n",
    "plt.figure(figsize=(5, 3))  # Set figure size\n",
    "sns.histplot(counts['count'], bins=30, kde=True, color='skyblue')\n",
    "plt.xlabel('# of detections', fontsize=10)\n",
    "plt.ylabel('frequency', fontsize=10)\n",
    "plt.show()"
   ]
  },
  {
   "cell_type": "code",
   "execution_count": 20,
   "id": "6eda8584-5d50-45be-a8ad-4c3985634adf",
   "metadata": {},
   "outputs": [
    {
     "name": "stdout",
     "output_type": "stream",
     "text": [
      "\n",
      "count    164972.000000\n",
      "mean         23.377727\n",
      "std          53.546598\n",
      "min           0.000000\n",
      "25%           2.180000\n",
      "50%           5.810000\n",
      "75%          19.350000\n",
      "max        1909.180000\n",
      "Name: frp, dtype: float64\n",
      "\n",
      "\tRemoved [430] observations with FRP == 0\n",
      "\n",
      "\n",
      "count    164542.000000\n",
      "mean        107.379947\n",
      "std         247.840629\n",
      "min           0.910010\n",
      "25%          10.391426\n",
      "50%          26.967233\n",
      "75%          88.629229\n",
      "max        8954.878049\n",
      "Name: frp_wkm2, dtype: float64\n",
      "\n",
      "    frp   frp_wkm2  pix_area\n",
      "0  6.76  20.083185    0.3366\n",
      "1  4.92  14.616756    0.3366\n",
      "2  7.78  23.113488    0.3366 \n",
      "\n"
     ]
    },
    {
     "data": {
      "image/png": "[encoded data removed]",
      "text/plain": [
       "<Figure size 500x300 with 1 Axes>"
      ]
     },
     "metadata": {},
     "output_type": "display_data"
    }
   ],
   "source": [
    "## Quickly calculate pix_area by multiplying scan and track\n",
    "afds_ll_fires['pix_area'] = afds_ll_fires['scan'] * afds_ll_fires['track']\n",
    "\n",
    "# check on the FRP measurements\n",
    "# identify observations with 0 FRP\n",
    "print(f\"\\n{afds_ll_fires['frp'].describe()}\\n\")\n",
    "# drop 0 records (no FRP measurements)\n",
    "n_zero = afds_ll_fires[afds_ll_fires['frp'] == 0]['frp'].count()\n",
    "afds_ll_fires = afds_ll_fires[afds_ll_fires['frp'] > 0]\n",
    "print(f\"\\tRemoved [{n_zero}] observations with FRP == 0\\n\")\n",
    "\n",
    "# create a \"W/Km2\" column, dividing FRP by pixel area\n",
    "afds_ll_fires['frp_wkm2'] = afds_ll_fires['frp'] / afds_ll_fires['pix_area']\n",
    "print(f\"\\n{afds_ll_fires['frp_wkm2'].describe()}\\n\")\n",
    "print(afds_ll_fires[['frp','frp_wkm2','pix_area']].head(3), \"\\n\")\n",
    "\n",
    "# plot the distribution\n",
    "x_min, x_max = afds_ll_fires['frp'].min(), afds_ll_fires['frp'].max()\n",
    "plt.figure(figsize=(5, 3))  # Set figure size\n",
    "sns.histplot(afds_ll_fires['frp'], bins=50, kde=True, color='red')\n",
    "plt.xlim(x_min, x_max)\n",
    "plt.ylim(0, 170000)\n",
    "plt.xlabel('fire radiative power', fontsize=10)\n",
    "plt.ylabel('frequency', fontsize=10)\n",
    "plt.show()"
   ]
  },
  {
   "cell_type": "code",
   "execution_count": 21,
   "id": "9c08a440-558f-41d4-af28-e222a309b83d",
   "metadata": {},
   "outputs": [
    {
     "name": "stdout",
     "output_type": "stream",
     "text": [
      ">=10 obs: 310\n",
      ">=50 obs: 181\n",
      ">=100 obs: 134\n"
     ]
    }
   ],
   "source": [
    "# check on some detections thresholds by fire\n",
    "print(f\">=10 obs: {len(afds_ll_fires[afds_ll_fires['count'] >= 10]['id'].unique())}\")\n",
    "print(f\">=50 obs: {len(afds_ll_fires[afds_ll_fires['count'] >= 50]['id'].unique())}\")\n",
    "print(f\">=100 obs: {len(afds_ll_fires[afds_ll_fires['count'] >= 100]['id'].unique())}\")"
   ]
  },
  {
   "cell_type": "code",
   "execution_count": 22,
   "id": "983a0219-86b1-49f7-a002-01383a70b14f",
   "metadata": {},
   "outputs": [
    {
     "name": "stdout",
     "output_type": "stream",
     "text": [
      "There are 310 fires with >= 10 obs.\n"
     ]
    }
   ],
   "source": [
    "# only keep fires with enough detections\n",
    "n_obs = 10 # the threshold for number of observations\n",
    "afds_fires = afds_ll_fires[afds_ll_fires['count'] >= n_obs]\n",
    "print(f\"There are {len(afds_fires['id'].unique())} fires with >= {n_obs} obs.\")"
   ]
  },
  {
   "cell_type": "code",
   "execution_count": 23,
   "id": "bf4ac45e-4416-4247-81d8-d499d70acce6",
   "metadata": {},
   "outputs": [
    {
     "name": "stdout",
     "output_type": "stream",
     "text": [
      "Saved spatial points to: /Users/nphfi/Desktop/FRP/data/spatial/mod/VIIRS/viirs_snpp_jpss1_afd_latlon_fires.gpkg\n"
     ]
    }
   ],
   "source": [
    "# save this file out.\n",
    "out_fp = os.path.join(datamod,'viirs_snpp_jpss1_afd_latlon_fires.gpkg')\n",
    "afds_fires.to_file(out_fp)\n",
    "print(f\"Saved spatial points to: {out_fp}\")"
   ]
  },
  {
   "cell_type": "code",
   "execution_count": 24,
   "id": "a77f1fe0-bfb6-4e98-8efb-ea2f55e08568",
   "metadata": {},
   "outputs": [
    {
     "data": {
      "text/plain": [
       "10211"
      ]
     },
     "execution_count": 24,
     "metadata": {},
     "output_type": "execute_result"
    }
   ],
   "source": [
    "# tidy up\n",
    "del afds_ll_fires, afds_ll\n",
    "gc.collect()"
   ]
  },
  {
   "cell_type": "code",
   "execution_count": 25,
   "id": "28fb5f44-037e-4433-b44c-906f8e745a98",
   "metadata": {},
   "outputs": [
    {
     "name": "stdout",
     "output_type": "stream",
     "text": [
      "Total detections at this stage: 164178\n",
      "\n",
      "Columns available:\n",
      " Index(['latitude', 'longitude', 'brightness', 'scan', 'track', 'acq_date',\n",
      "       'acq_time', 'satellite', 'instrument', 'confidence', 'version',\n",
      "       'bright_t31', 'frp', 'daynight', 'source', 'satellite_type', 'type',\n",
      "       'acq_datetime', 'geometry', 'afdID', 'id', 'tot_ar_km2', 'ig_year',\n",
      "       'ig_date', 'last_date', 'acq_dt_mst', 'acq_month', 'acq_year', 'count',\n",
      "       'pix_area', 'frp_wkm2', 'obs_id'],\n",
      "      dtype='object')\n",
      "\n"
     ]
    },
    {
     "data": {
      "text/html": [
       "<div>\n",
       "<style scoped>\n",
       "    .dataframe tbody tr th:only-of-type {\n",
       "        vertical-align: middle;\n",
       "    }\n",
       "\n",
       "    .dataframe tbody tr th {\n",
       "        vertical-align: top;\n",
       "    }\n",
       "\n",
       "    .dataframe thead th {\n",
       "        text-align: right;\n",
       "    }\n",
       "</style>\n",
       "<table border=\"1\" class=\"dataframe\">\n",
       "  <thead>\n",
       "    <tr style=\"text-align: right;\">\n",
       "      <th></th>\n",
       "      <th>longitude</th>\n",
       "      <th>latitude</th>\n",
       "      <th>confidence</th>\n",
       "      <th>frp</th>\n",
       "      <th>acq_date</th>\n",
       "      <th>acq_time</th>\n",
       "      <th>acq_dt_mst</th>\n",
       "      <th>daynight</th>\n",
       "      <th>satellite</th>\n",
       "    </tr>\n",
       "  </thead>\n",
       "  <tbody>\n",
       "    <tr>\n",
       "      <th>0</th>\n",
       "      <td>-105.09768</td>\n",
       "      <td>41.74619</td>\n",
       "      <td>n</td>\n",
       "      <td>6.76</td>\n",
       "      <td>2024-10-22</td>\n",
       "      <td>1852</td>\n",
       "      <td>2024-10-22 12:52:00-06:00</td>\n",
       "      <td>D</td>\n",
       "      <td>N20</td>\n",
       "    </tr>\n",
       "    <tr>\n",
       "      <th>1</th>\n",
       "      <td>-105.09722</td>\n",
       "      <td>41.73312</td>\n",
       "      <td>n</td>\n",
       "      <td>4.92</td>\n",
       "      <td>2024-10-22</td>\n",
       "      <td>1852</td>\n",
       "      <td>2024-10-22 12:52:00-06:00</td>\n",
       "      <td>D</td>\n",
       "      <td>N20</td>\n",
       "    </tr>\n",
       "    <tr>\n",
       "      <th>2</th>\n",
       "      <td>-105.07538</td>\n",
       "      <td>41.73982</td>\n",
       "      <td>n</td>\n",
       "      <td>7.78</td>\n",
       "      <td>2024-10-22</td>\n",
       "      <td>1852</td>\n",
       "      <td>2024-10-22 12:52:00-06:00</td>\n",
       "      <td>D</td>\n",
       "      <td>N20</td>\n",
       "    </tr>\n",
       "    <tr>\n",
       "      <th>3</th>\n",
       "      <td>-105.07001</td>\n",
       "      <td>41.74146</td>\n",
       "      <td>n</td>\n",
       "      <td>7.78</td>\n",
       "      <td>2024-10-22</td>\n",
       "      <td>1852</td>\n",
       "      <td>2024-10-22 12:52:00-06:00</td>\n",
       "      <td>D</td>\n",
       "      <td>N20</td>\n",
       "    </tr>\n",
       "    <tr>\n",
       "      <th>4</th>\n",
       "      <td>-105.08882</td>\n",
       "      <td>41.72909</td>\n",
       "      <td>n</td>\n",
       "      <td>4.92</td>\n",
       "      <td>2024-10-22</td>\n",
       "      <td>1852</td>\n",
       "      <td>2024-10-22 12:52:00-06:00</td>\n",
       "      <td>D</td>\n",
       "      <td>N20</td>\n",
       "    </tr>\n",
       "  </tbody>\n",
       "</table>\n",
       "</div>"
      ],
      "text/plain": [
       "   longitude  latitude confidence   frp   acq_date  acq_time  \\\n",
       "0 -105.09768  41.74619          n  6.76 2024-10-22      1852   \n",
       "1 -105.09722  41.73312          n  4.92 2024-10-22      1852   \n",
       "2 -105.07538  41.73982          n  7.78 2024-10-22      1852   \n",
       "3 -105.07001  41.74146          n  7.78 2024-10-22      1852   \n",
       "4 -105.08882  41.72909          n  4.92 2024-10-22      1852   \n",
       "\n",
       "                 acq_dt_mst daynight satellite  \n",
       "0 2024-10-22 12:52:00-06:00        D       N20  \n",
       "1 2024-10-22 12:52:00-06:00        D       N20  \n",
       "2 2024-10-22 12:52:00-06:00        D       N20  \n",
       "3 2024-10-22 12:52:00-06:00        D       N20  \n",
       "4 2024-10-22 12:52:00-06:00        D       N20  "
      ]
     },
     "execution_count": 25,
     "metadata": {},
     "output_type": "execute_result"
    }
   ],
   "source": [
    "# Create the ground area of pixels based on swath position\n",
    "# Define the pixel buffer function for the given width and height\n",
    "def pixel_area(point, width, height):\n",
    "    half_width = width / 2\n",
    "    half_height = height / 2\n",
    "    return box(\n",
    "        point.x - half_width, point.y - half_height,\n",
    "        point.x + half_width, point.y + half_height\n",
    "    )\n",
    "\n",
    "afds_pix = afds_fires.copy() # work on a copy of our lat/lon detections\n",
    "\n",
    "# Apply the buffer function with along_scan and along_track values converted to meters (*1000)\n",
    "afds_pix[\"geometry\"] = afds_pix.apply(\n",
    "    lambda row: pixel_area(row[\"geometry\"], row[\"scan\"] * 1000, row[\"track\"] * 1000), axis=1\n",
    ")\n",
    "\n",
    "# tidy the index column\n",
    "afds_pix = afds_pix.reset_index(drop=True)\n",
    "afds_pix['obs_id'] = afds_pix.index # unique ID column\n",
    "print(f\"Total detections at this stage: {len(afds_pix)}\")\n",
    "print(f\"\\nColumns available:\\n {afds_pix.columns}\\n\")\n",
    "afds_pix[['longitude', 'latitude', 'confidence', 'frp',\n",
    "          'acq_date', 'acq_time', 'acq_dt_mst', 'daynight', 'satellite']].head() # check the results"
   ]
  },
  {
   "cell_type": "code",
   "execution_count": 26,
   "id": "4b7522a5-77cc-408d-9d54-bf51660d36ec",
   "metadata": {},
   "outputs": [
    {
     "name": "stdout",
     "output_type": "stream",
     "text": [
      "Saved to /Users/nphfi/Desktop/FRP/data/spatial/mod/VIIRS/viirs_snpp_jpss1_afd_latlon_fires_pixar.gpkg\n",
      "\n"
     ]
    }
   ],
   "source": [
    "# save this file out.\n",
    "out_fp = os.path.join(datamod,'viirs_snpp_jpss1_afd_latlon_fires_pixar.gpkg')\n",
    "afds_pix.to_file(out_fp)\n",
    "print(f\"Saved to {out_fp}\\n\")"
   ]
  },
  {
   "cell_type": "code",
   "execution_count": 27,
   "id": "7af5e741-e711-492a-93ab-99a8eadf767e",
   "metadata": {},
   "outputs": [
    {
     "name": "stdout",
     "output_type": "stream",
     "text": [
      "Exporting 310\n",
      "Saved file to: /Users/nphfi/Desktop/FRP/data/spatial/mod/srm_fire_census_2000_to_2024_subset.gpkg\n"
     ]
    }
   ],
   "source": [
    "# Subset fires to the grid dataset\n",
    "fires = fires[fires['id'].isin(afds_pix['id'].unique())]\n",
    "# export the new fire census\n",
    "print(f\"Exporting {len(fires)}\")\n",
    "out_fp = os.path.join(projdir,'data/spatial/mod/srm_fire_census_2000_to_2024_subset.gpkg')\n",
    "fires.to_file(out_fp)\n",
    "print(f\"Saved file to: {out_fp}\")"
   ]
  },
  {
   "cell_type": "code",
   "execution_count": 28,
   "id": "65ec1fe2-21b3-4a45-9928-3d4d047cac03",
   "metadata": {},
   "outputs": [
    {
     "name": "stdout",
     "output_type": "stream",
     "text": [
      "Bounding extent for the SRM: [-1112916.7775639817, -692136.0942286142, 1400616.0958382552, 2244339.605214331]\n",
      "Grid saved to: /Users/nphfi/Desktop/FRP/data/spatial/mod/VIIRS/srm_fire_census_reggrid_375m.gpkg\n",
      "\n",
      "Total elapsed time: 2.51 minutes.\n",
      "\n",
      "\n",
      "~~~~~~~~~~\n",
      "\n",
      "Done!\n"
     ]
    }
   ],
   "source": [
    "# Aggregate FRP to a regular grid\n",
    "t0 = time.time()\n",
    "\n",
    "# create a regular grid extracted to fire perimeters\n",
    "def regular_grid(extent, res=0.0035, crs_out='EPSG:5070', regions=None):\n",
    "    \"\"\"\n",
    "    Creates a regular-spaced grid\n",
    "    \"\"\"\n",
    "    # retrieve bounding coordinates\n",
    "    min_lon, max_lon, min_lat, max_lat = extent\n",
    "    \n",
    "    # create the grid lines in degrees\n",
    "    x_coords = np.arange(min_lon, max_lon, res)\n",
    "    y_coords = np.arange(min_lat, max_lat, res)\n",
    "\n",
    "    # generate the grid cells\n",
    "    cells = [\n",
    "        Polygon([(x, y), (x + res, y), (x + res, y + res), (x, y + res)])\n",
    "        for x in x_coords for y in y_coords\n",
    "    ]\n",
    "\n",
    "    # create a geodataframe in WGS, reprojected if needed\n",
    "    grid = gpd.GeoDataFrame({'geometry': cells}, crs=crs_out)\n",
    "\n",
    "    if regions is not None:\n",
    "        if regions.crs != grid.crs:\n",
    "            regions = regions.to_crs(grid.crs)\n",
    "        # Perform spatial intersection to keep only grid cells overlapping the polygon\n",
    "        grid = grid[grid.intersects(regions.unary_union)].copy()\n",
    "\n",
    "    return grid\n",
    "\n",
    "# get the SRM extent in lat/lon (WGS)\n",
    "coords, extent = get_coords(srm, buffer=1000, crs='EPSG:5070')\n",
    "print(f\"Bounding extent for the SRM: {extent}\")\n",
    "\n",
    "# generate the grid (0.0035 degrees or 375m)\n",
    "# extract grid intersecting fire perimeters\n",
    "grid = regular_grid(\n",
    "    extent, # Southern Rockies\n",
    "    res=375, # 375m2 (VIIRS at-nadir res)\n",
    "    crs_out='EPSG:5070', # projected crs\n",
    "    regions=fires # any overlapping detections\n",
    ")\n",
    "\n",
    "# save this out.\n",
    "out_fp = os.path.join(datamod, 'srm_fire_census_reggrid_375m.gpkg')\n",
    "grid.to_file(out_fp, driver=\"GPKG\")\n",
    "print(f\"Grid saved to: {out_fp}\")\n",
    "\n",
    "t1 = (time.time() - t0) / 60\n",
    "print(f\"\\nTotal elapsed time: {t1:.2f} minutes.\\n\")\n",
    "print(\"\\n~~~~~~~~~~\\n\")\n",
    "print(\"Done!\")"
   ]
  },
  {
   "cell_type": "code",
   "execution_count": 29,
   "id": "8e0faeab-f539-4a47-ac93-3933649cc719",
   "metadata": {},
   "outputs": [
    {
     "data": {
      "application/vnd.jupyter.widget-view+json": {
       "model_id": "d2676c4d423c4ee18a1058041a13ce57",
       "version_major": 2,
       "version_minor": 0
      },
      "text/plain": [
       "  0%|          | 0/310 [00:00<?, ?it/s]"
      ]
     },
     "metadata": {},
     "output_type": "display_data"
    },
    {
     "name": "stdout",
     "output_type": "stream",
     "text": [
      "\n",
      "Total elapsed time: 6.07 minutes.\n",
      "\n",
      "\n",
      "~~~~~~~~~~\n",
      "\n",
      "Done!\n"
     ]
    }
   ],
   "source": [
    "# calculate a gridded cumulative FRP and maximum FRP\n",
    "# process the fire data by aggregating fractional FRP\n",
    "t0 = time.time()\n",
    "\n",
    "def aggregate_frp(detections, grid):\n",
    "    \"\"\"\n",
    "    Aggregate fire pixel frp data into a regular grid with fractional overlay\n",
    "    \"\"\"\n",
    "\n",
    "    # Make sure the projections match\n",
    "    if detections.crs != grid.crs:\n",
    "        detections = detections.to_crs(grid.crs)\n",
    "\n",
    "    # calculate the pixel area in m2\n",
    "    detections['pix_area_m2'] = detections['pix_area'] * 1e6\n",
    "\n",
    "    # tidy the grid and calculate the grid area\n",
    "    grid = grid.reset_index(drop=False).rename(columns={'index': 'grid_index'})\n",
    "    grid['grid_area'] = grid.geometry.area  # precompute grid cell areas\n",
    "\n",
    "    # overlay detections onto the grid\n",
    "    overlay = gpd.overlay(detections, grid, how='intersection')\n",
    "\n",
    "    # fractional overlap area\n",
    "    overlay['overlap_m2'] = overlay.geometry.area\n",
    "    overlay['fraction'] = overlay['overlap_m2'] / overlay['pix_area_m2']\n",
    "    \n",
    "    # multiply FRP by fractional area\n",
    "    overlay['frp_fr'] = overlay['frp_wkm2'] * overlay['fraction']\n",
    "    overlay['frp_fr'] = overlay['frp_fr'].fillna(0)\n",
    "    \n",
    "    # Aggregate by grid cell\n",
    "    aggregated = overlay.groupby('grid_index').agg(\n",
    "        afd_count=('frp_fr', 'count'), \n",
    "        unique_days=('acq_date', 'nunique'),\n",
    "        # overlap amount\n",
    "        overlap=('fraction', 'sum'),\n",
    "        # fire radiative power\n",
    "        frp_csum=('frp_fr', 'sum'),\n",
    "        frp_max=('frp_fr', 'max'),\n",
    "        frp_min=('frp_fr', 'min'),\n",
    "        frp_mean=('frp_fr', 'mean'),\n",
    "        frp_p90=('frp_fr', lambda x: x.quantile(0.90) if not x.empty else 0),\n",
    "        frp_p95=('frp_fr', lambda x: x.quantile(0.95) if not x.empty else 0),\n",
    "        frp_p97=('frp_fr', lambda x: x.quantile(0.97) if not x.empty else 0),\n",
    "        frp_p99=('frp_fr', lambda x: x.quantile(0.99) if not x.empty else 0),\n",
    "        frp_first=('frp_fr', lambda x: overlay.loc[x.index, :].sort_values('acq_dt_mst').iloc[0]['frp_fr']),\n",
    "        day_max_frp=('frp_fr', lambda x: overlay.loc[x.idxmax(), 'acq_date'] if not x.empty else None),\n",
    "        dt_max_frp=('frp_fr', lambda x: overlay.loc[x.idxmax(), 'acq_dt_mst'] if not x.empty else None),\n",
    "        first_obs_date=('acq_date', 'min'),\n",
    "        last_obs_date=('acq_date', 'max') \n",
    "    ).reset_index()\n",
    "\n",
    "    # add day and night FRP stats\n",
    "    daynight_stats = (\n",
    "        overlay.groupby(['grid_index', 'daynight'])['frp_fr']\n",
    "        .agg(\n",
    "            count='count',\n",
    "            max='max', \n",
    "            mean='mean',\n",
    "            sum='sum',\n",
    "            p90=lambda x: x.quantile(0.90) if not x.empty else 0,\n",
    "            p95=lambda x: x.quantile(0.95) if not x.empty else 0,\n",
    "            p97=lambda x: x.quantile(0.97) if not x.empty else 0,\n",
    "            p99=lambda x: x.quantile(0.99) if not x.empty else 0,\n",
    "            first=lambda x: overlay.loc[x.index, :].sort_values('acq_dt_mst').iloc[0]['frp_fr'],\n",
    "            last=lambda x: overlay.loc[x.index, :].sort_values('acq_dt_mst', ascending=False).iloc[0]['frp_fr']\n",
    "        )\n",
    "        .unstack(fill_value=0)  # Ensure missing values are filled with 0\n",
    "        .reset_index()\n",
    "    )\n",
    "\n",
    "    #print(daynight_stats.columns)\n",
    "\n",
    "    # Flatten column names after unstacking\n",
    "    daynight_stats.columns = [\n",
    "        f\"{stat}_{dn}\" if dn else stat\n",
    "        for stat, dn in daynight_stats.columns\n",
    "    ]\n",
    "\n",
    "    # Rename flattened daynight_stats columns to match original naming convention\n",
    "    rename_map = {\n",
    "        'count_D': 'day_count',\n",
    "        'count_N': 'night_count',\n",
    "        'max_D': 'frp_max_day',\n",
    "        'max_N': 'frp_max_night',\n",
    "        'sum_D': 'frp_csum_day',\n",
    "        'sum_N': 'frp_csum_night',\n",
    "        'mean_D': 'frp_mean_day',\n",
    "        'mean_N': 'frp_mean_night',\n",
    "        'p90_D': 'frp_p90_day',\n",
    "        'p90_N': 'frp_p90_night',\n",
    "        'p95_D': 'frp_p95_day',\n",
    "        'p95_N': 'frp_p95_night',\n",
    "        'p97_D': 'frp_p97_day',\n",
    "        'p97_N': 'frp_p97_night',\n",
    "        'p99_D': 'frp_p99_day',\n",
    "        'p99_N': 'frp_p99_night',\n",
    "        'first_D': 'frp_first_day',\n",
    "        'first_N': 'frp_first_night',\n",
    "        'last_D': 'frp_last_day',\n",
    "        'last_N': 'frp_last_night'\n",
    "    }\n",
    "    \n",
    "    daynight_stats = daynight_stats.rename(columns=rename_map)\n",
    "\n",
    "    # Merge the flattened daynight_stats back in on 'grid_index'\n",
    "    aggregated = aggregated.merge(daynight_stats, on='grid_index', how='left')\n",
    "\n",
    "    # Fill missing values (if any grid cell lacks day/night data)\n",
    "    aggregated = aggregated.fillna(0)\n",
    "    \n",
    "    # Add day/night statistics\n",
    "    #aggregated['day_count'] = daynight_stats['count'].get('D', 0)\n",
    "    #aggregated['night_count'] = daynight_stats['count'].get('N', 0)\n",
    "    #aggregated['frp_max_day'] = daynight_stats['max'].get('D', 0)\n",
    "    #aggregated['frp_max_night'] = daynight_stats['max'].get('N', 0)\n",
    "    #aggregated['frp_csum_day'] = daynight_stats['sum'].get('D', 0)\n",
    "    #aggregated['frp_csum_night'] = daynight_stats['sum'].get('N', 0)\n",
    "    #aggregated['frp_mean_day'] = daynight_stats['mean'].get('D', 0)\n",
    "    #aggregated['frp_mean_night'] = daynight_stats['mean'].get('N', 0)\n",
    "    #aggregated['frp_p90_day'] = daynight_stats['p90'].get('D', 0)\n",
    "    #aggregated['frp_p90_night'] = daynight_stats['p90'].get('N', 0)\n",
    "    #aggregated['frp_p95_day'] = daynight_stats['p95'].get('D', 0)\n",
    "    #aggregated['frp_p95_night'] = daynight_stats['p95'].get('N', 0)\n",
    "    #aggregated['frp_p97_day'] = daynight_stats['p97'].get('D', 0)\n",
    "    #aggregated['frp_p97_night'] = daynight_stats['p97'].get('N', 0)\n",
    "    #aggregated['frp_p99_day'] = daynight_stats['p99'].get('D', 0)\n",
    "    #aggregated['frp_p99_night'] = daynight_stats['p99'].get('N', 0)\n",
    "    #aggregated['frp_first_day'] = daynight_stats['first'].get('D', 0)\n",
    "    #aggregated['frp_first_night'] = daynight_stats['first'].get('N', 0)\n",
    "    \n",
    "    # Join results back to grid\n",
    "    grid = grid.merge(aggregated, on='grid_index', how='right')\n",
    "        \n",
    "    return grid\n",
    "\n",
    "\n",
    "# Make sure we are using fires with >=50 detections\n",
    "fires_ = fires[fires['id'].isin(afds_pix['id'].unique())]\n",
    "fire_grids = [] # Initialize results list\n",
    "with tqdm(fires_.iterrows(), total=len(fires_)) as pbar:\n",
    "    for _, fire in pbar:\n",
    "        pbar.set_description(f\"Processing [{fire['id']}]\")\n",
    "        # get the geodataframe of the fire\n",
    "        fire_gdf = gpd.GeoDataFrame([fire], crs=fires_.crs)  # Ensure GeoDataFrame\n",
    "        \n",
    "        # aggregate fire pixels to the grid\n",
    "        fire_grid = aggregate_frp(afds_pix[afds_pix['id'] == fire['id']], grid)\n",
    "        fire_grid['id'] = fire['id']\n",
    "        #fire_grid['Fire_Name'] = fire['Fire_Name']\n",
    "        fire_grids.append(fire_grid)\n",
    "\n",
    "# Combine all grids into one\n",
    "fire_grids = pd.concat(fire_grids)\n",
    "\n",
    "t3 = (time.time() - t0) / 60\n",
    "print(f\"\\nTotal elapsed time: {t3:.2f} minutes.\\n\")\n",
    "print(\"\\n~~~~~~~~~~\\n\")\n",
    "print(\"Done!\")"
   ]
  },
  {
   "cell_type": "code",
   "execution_count": 31,
   "id": "c113c774-dd4e-4884-adf5-e97bcf20b98e",
   "metadata": {},
   "outputs": [
    {
     "name": "stdout",
     "output_type": "stream",
     "text": [
      "count    104247.000000\n",
      "mean          8.072539\n",
      "std           8.204409\n",
      "min           1.000000\n",
      "25%           2.000000\n",
      "50%           5.000000\n",
      "75%          11.000000\n",
      "max         119.000000\n",
      "Name: afd_count, dtype: float64\n",
      "/n\n",
      "count    104247.000000\n",
      "mean          2.256852\n",
      "std           1.849224\n",
      "min           1.000000\n",
      "25%           1.000000\n",
      "50%           2.000000\n",
      "75%           3.000000\n",
      "max          21.000000\n",
      "Name: unique_days, dtype: float64\n"
     ]
    },
    {
     "data": {
      "text/plain": [
       "['grid_index',\n",
       " 'geometry',\n",
       " 'grid_area',\n",
       " 'afd_count',\n",
       " 'unique_days',\n",
       " 'overlap',\n",
       " 'frp_csum',\n",
       " 'frp_max',\n",
       " 'frp_min',\n",
       " 'frp_mean',\n",
       " 'frp_p90',\n",
       " 'frp_p95',\n",
       " 'frp_p97',\n",
       " 'frp_p99',\n",
       " 'frp_first',\n",
       " 'day_max_frp',\n",
       " 'dt_max_frp',\n",
       " 'first_obs_date',\n",
       " 'last_obs_date',\n",
       " 'day_count',\n",
       " 'night_count',\n",
       " 'frp_max_day',\n",
       " 'frp_max_night',\n",
       " 'frp_mean_day',\n",
       " 'frp_mean_night',\n",
       " 'frp_csum_day',\n",
       " 'frp_csum_night',\n",
       " 'frp_p90_day',\n",
       " 'frp_p90_night',\n",
       " 'frp_p95_day',\n",
       " 'frp_p95_night',\n",
       " 'frp_p97_day',\n",
       " 'frp_p97_night',\n",
       " 'frp_p99_day',\n",
       " 'frp_p99_night',\n",
       " 'frp_first_day',\n",
       " 'frp_first_night',\n",
       " 'frp_last_day',\n",
       " 'frp_last_night',\n",
       " 'id']"
      ]
     },
     "execution_count": 31,
     "metadata": {},
     "output_type": "execute_result"
    }
   ],
   "source": [
    "print(fire_grids['afd_count'].describe())\n",
    "print(\"/n\")\n",
    "print(fire_grids['unique_days'].describe())\n",
    "list(fire_grids.columns)"
   ]
  },
  {
   "cell_type": "code",
   "execution_count": 32,
   "id": "e6a787a8-4df9-4605-9e74-8a1fd63b1952",
   "metadata": {},
   "outputs": [
    {
     "data": {
      "text/html": [
       "<div>\n",
       "<style scoped>\n",
       "    .dataframe tbody tr th:only-of-type {\n",
       "        vertical-align: middle;\n",
       "    }\n",
       "\n",
       "    .dataframe tbody tr th {\n",
       "        vertical-align: top;\n",
       "    }\n",
       "\n",
       "    .dataframe thead th {\n",
       "        text-align: right;\n",
       "    }\n",
       "</style>\n",
       "<table border=\"1\" class=\"dataframe\">\n",
       "  <thead>\n",
       "    <tr style=\"text-align: right;\">\n",
       "      <th></th>\n",
       "      <th>grid_index</th>\n",
       "      <th>frp_csum</th>\n",
       "      <th>frp_csum_day</th>\n",
       "      <th>frp_max</th>\n",
       "      <th>frp_max_day</th>\n",
       "      <th>frp_p90</th>\n",
       "      <th>frp_p95</th>\n",
       "      <th>frp_p97</th>\n",
       "      <th>frp_p99</th>\n",
       "      <th>frp_min</th>\n",
       "      <th>frp_first</th>\n",
       "      <th>frp_first_day</th>\n",
       "      <th>day_count</th>\n",
       "      <th>night_count</th>\n",
       "    </tr>\n",
       "  </thead>\n",
       "  <tbody>\n",
       "    <tr>\n",
       "      <th>6673</th>\n",
       "      <td>1653984</td>\n",
       "      <td>5079.028831</td>\n",
       "      <td>5073.097259</td>\n",
       "      <td>4728.203953</td>\n",
       "      <td>4728.203953</td>\n",
       "      <td>635.473552</td>\n",
       "      <td>2681.838752</td>\n",
       "      <td>3500.384833</td>\n",
       "      <td>4318.930913</td>\n",
       "      <td>0.528809</td>\n",
       "      <td>4728.203953</td>\n",
       "      <td>4728.203953</td>\n",
       "      <td>7.0</td>\n",
       "      <td>3.0</td>\n",
       "    </tr>\n",
       "    <tr>\n",
       "      <th>4264</th>\n",
       "      <td>1581249</td>\n",
       "      <td>4437.577344</td>\n",
       "      <td>0.000000</td>\n",
       "      <td>4003.483231</td>\n",
       "      <td>0.000000</td>\n",
       "      <td>279.122686</td>\n",
       "      <td>2141.302959</td>\n",
       "      <td>2886.175068</td>\n",
       "      <td>3631.047177</td>\n",
       "      <td>0.016712</td>\n",
       "      <td>0.016712</td>\n",
       "      <td>0.000000</td>\n",
       "      <td>0.0</td>\n",
       "      <td>11.0</td>\n",
       "    </tr>\n",
       "    <tr>\n",
       "      <th>1392</th>\n",
       "      <td>1938820</td>\n",
       "      <td>3998.914571</td>\n",
       "      <td>3998.914571</td>\n",
       "      <td>3790.222305</td>\n",
       "      <td>3790.222305</td>\n",
       "      <td>2697.997865</td>\n",
       "      <td>3244.110085</td>\n",
       "      <td>3462.554973</td>\n",
       "      <td>3680.999861</td>\n",
       "      <td>5.243594</td>\n",
       "      <td>5.243594</td>\n",
       "      <td>5.243594</td>\n",
       "      <td>4.0</td>\n",
       "      <td>0.0</td>\n",
       "    </tr>\n",
       "    <tr>\n",
       "      <th>1566</th>\n",
       "      <td>1938820</td>\n",
       "      <td>3998.914571</td>\n",
       "      <td>3998.914571</td>\n",
       "      <td>3790.222305</td>\n",
       "      <td>3790.222305</td>\n",
       "      <td>2697.997865</td>\n",
       "      <td>3244.110085</td>\n",
       "      <td>3462.554973</td>\n",
       "      <td>3680.999861</td>\n",
       "      <td>5.243594</td>\n",
       "      <td>5.243594</td>\n",
       "      <td>5.243594</td>\n",
       "      <td>4.0</td>\n",
       "      <td>0.0</td>\n",
       "    </tr>\n",
       "    <tr>\n",
       "      <th>596</th>\n",
       "      <td>1524752</td>\n",
       "      <td>3913.110262</td>\n",
       "      <td>87.690987</td>\n",
       "      <td>2251.922744</td>\n",
       "      <td>65.796569</td>\n",
       "      <td>870.542803</td>\n",
       "      <td>1557.549529</td>\n",
       "      <td>1835.298815</td>\n",
       "      <td>2113.048101</td>\n",
       "      <td>0.275448</td>\n",
       "      <td>0.603975</td>\n",
       "      <td>65.796569</td>\n",
       "      <td>4.0</td>\n",
       "      <td>11.0</td>\n",
       "    </tr>\n",
       "    <tr>\n",
       "      <th>7870</th>\n",
       "      <td>1674104</td>\n",
       "      <td>3841.759618</td>\n",
       "      <td>22.819144</td>\n",
       "      <td>2956.696544</td>\n",
       "      <td>22.819144</td>\n",
       "      <td>1053.436777</td>\n",
       "      <td>2005.066660</td>\n",
       "      <td>2385.718613</td>\n",
       "      <td>2766.370567</td>\n",
       "      <td>0.156485</td>\n",
       "      <td>4.432346</td>\n",
       "      <td>22.819144</td>\n",
       "      <td>1.0</td>\n",
       "      <td>8.0</td>\n",
       "    </tr>\n",
       "    <tr>\n",
       "      <th>547</th>\n",
       "      <td>1522502</td>\n",
       "      <td>3826.689056</td>\n",
       "      <td>121.904596</td>\n",
       "      <td>3656.672345</td>\n",
       "      <td>36.557786</td>\n",
       "      <td>38.381420</td>\n",
       "      <td>1485.971335</td>\n",
       "      <td>2354.251739</td>\n",
       "      <td>3222.532143</td>\n",
       "      <td>0.547611</td>\n",
       "      <td>0.883626</td>\n",
       "      <td>33.144524</td>\n",
       "      <td>6.0</td>\n",
       "      <td>7.0</td>\n",
       "    </tr>\n",
       "    <tr>\n",
       "      <th>751</th>\n",
       "      <td>1531498</td>\n",
       "      <td>3613.530113</td>\n",
       "      <td>69.432183</td>\n",
       "      <td>2528.168134</td>\n",
       "      <td>47.545902</td>\n",
       "      <td>384.509282</td>\n",
       "      <td>1355.409346</td>\n",
       "      <td>1824.512861</td>\n",
       "      <td>2293.616376</td>\n",
       "      <td>4.842568</td>\n",
       "      <td>6.756617</td>\n",
       "      <td>11.039306</td>\n",
       "      <td>4.0</td>\n",
       "      <td>8.0</td>\n",
       "    </tr>\n",
       "    <tr>\n",
       "      <th>2597</th>\n",
       "      <td>1536283</td>\n",
       "      <td>3578.687183</td>\n",
       "      <td>3574.474576</td>\n",
       "      <td>3571.201277</td>\n",
       "      <td>3571.201277</td>\n",
       "      <td>2500.822884</td>\n",
       "      <td>3036.012081</td>\n",
       "      <td>3250.087759</td>\n",
       "      <td>3464.163438</td>\n",
       "      <td>1.762894</td>\n",
       "      <td>3571.201277</td>\n",
       "      <td>3571.201277</td>\n",
       "      <td>2.0</td>\n",
       "      <td>2.0</td>\n",
       "    </tr>\n",
       "    <tr>\n",
       "      <th>2076</th>\n",
       "      <td>1965804</td>\n",
       "      <td>3572.704250</td>\n",
       "      <td>3554.633519</td>\n",
       "      <td>1766.630353</td>\n",
       "      <td>1766.630353</td>\n",
       "      <td>860.704372</td>\n",
       "      <td>1174.548755</td>\n",
       "      <td>1411.381395</td>\n",
       "      <td>1648.214034</td>\n",
       "      <td>0.032992</td>\n",
       "      <td>4.301475</td>\n",
       "      <td>36.116475</td>\n",
       "      <td>10.0</td>\n",
       "      <td>5.0</td>\n",
       "    </tr>\n",
       "  </tbody>\n",
       "</table>\n",
       "</div>"
      ],
      "text/plain": [
       "      grid_index     frp_csum  frp_csum_day      frp_max  frp_max_day  \\\n",
       "6673     1653984  5079.028831   5073.097259  4728.203953  4728.203953   \n",
       "4264     1581249  4437.577344      0.000000  4003.483231     0.000000   \n",
       "1392     1938820  3998.914571   3998.914571  3790.222305  3790.222305   \n",
       "1566     1938820  3998.914571   3998.914571  3790.222305  3790.222305   \n",
       "596      1524752  3913.110262     87.690987  2251.922744    65.796569   \n",
       "7870     1674104  3841.759618     22.819144  2956.696544    22.819144   \n",
       "547      1522502  3826.689056    121.904596  3656.672345    36.557786   \n",
       "751      1531498  3613.530113     69.432183  2528.168134    47.545902   \n",
       "2597     1536283  3578.687183   3574.474576  3571.201277  3571.201277   \n",
       "2076     1965804  3572.704250   3554.633519  1766.630353  1766.630353   \n",
       "\n",
       "          frp_p90      frp_p95      frp_p97      frp_p99   frp_min  \\\n",
       "6673   635.473552  2681.838752  3500.384833  4318.930913  0.528809   \n",
       "4264   279.122686  2141.302959  2886.175068  3631.047177  0.016712   \n",
       "1392  2697.997865  3244.110085  3462.554973  3680.999861  5.243594   \n",
       "1566  2697.997865  3244.110085  3462.554973  3680.999861  5.243594   \n",
       "596    870.542803  1557.549529  1835.298815  2113.048101  0.275448   \n",
       "7870  1053.436777  2005.066660  2385.718613  2766.370567  0.156485   \n",
       "547     38.381420  1485.971335  2354.251739  3222.532143  0.547611   \n",
       "751    384.509282  1355.409346  1824.512861  2293.616376  4.842568   \n",
       "2597  2500.822884  3036.012081  3250.087759  3464.163438  1.762894   \n",
       "2076   860.704372  1174.548755  1411.381395  1648.214034  0.032992   \n",
       "\n",
       "        frp_first  frp_first_day  day_count  night_count  \n",
       "6673  4728.203953    4728.203953        7.0          3.0  \n",
       "4264     0.016712       0.000000        0.0         11.0  \n",
       "1392     5.243594       5.243594        4.0          0.0  \n",
       "1566     5.243594       5.243594        4.0          0.0  \n",
       "596      0.603975      65.796569        4.0         11.0  \n",
       "7870     4.432346      22.819144        1.0          8.0  \n",
       "547      0.883626      33.144524        6.0          7.0  \n",
       "751      6.756617      11.039306        4.0          8.0  \n",
       "2597  3571.201277    3571.201277        2.0          2.0  \n",
       "2076     4.301475      36.116475       10.0          5.0  "
      ]
     },
     "execution_count": 32,
     "metadata": {},
     "output_type": "execute_result"
    }
   ],
   "source": [
    "## Need to change a few of the column names here because of using a flattened df instead of a multiindex\n",
    "fire_grids.sort_values(\n",
    "    by='frp_csum', ascending=False\n",
    ")[['grid_index','frp_csum','frp_csum_day','frp_max','frp_max_day',\n",
    "   'frp_p90', 'frp_p95', 'frp_p97', 'frp_p99','frp_min','frp_first',\n",
    "   'frp_first_day', 'day_count','night_count']].head(10)"
   ]
  },
  {
   "cell_type": "code",
   "execution_count": 33,
   "id": "89505499-17b7-417b-a1c1-d032c97cfe1c",
   "metadata": {},
   "outputs": [
    {
     "name": "stdout",
     "output_type": "stream",
     "text": [
      "Cumulative FRP (total): 17574694.64 (W/km2)\n"
     ]
    }
   ],
   "source": [
    "print(f\"Cumulative FRP (total): {round(fire_grids['frp_csum'].sum(), 2)} (W/km2)\")"
   ]
  },
  {
   "cell_type": "code",
   "execution_count": 34,
   "id": "10bf0efa-590c-4b09-824f-1e489991e71d",
   "metadata": {},
   "outputs": [
    {
     "name": "stdout",
     "output_type": "stream",
     "text": [
      "Saved file to: /Users/nphfi/Desktop/FRP/data/spatial/mod/VIIRS/viirs_snpp_jpss1_afd_latlon_fires_pixar_gridstats.gpkg\n"
     ]
    }
   ],
   "source": [
    "# save this file out.\n",
    "out_fp = os.path.join(datamod,'viirs_snpp_jpss1_afd_latlon_fires_pixar_gridstats.gpkg')\n",
    "fire_grids.to_file(out_fp)\n",
    "print(f\"Saved file to: {out_fp}\")"
   ]
  },
  {
   "cell_type": "code",
   "execution_count": 35,
   "id": "c41ceab4-82ff-4aa8-a195-904b78411756",
   "metadata": {},
   "outputs": [
    {
     "data": {
      "text/plain": [
       "Index(['grid_index', 'geometry', 'grid_area', 'afd_count', 'unique_days',\n",
       "       'overlap', 'frp_csum', 'frp_max', 'frp_min', 'frp_mean', 'frp_p90',\n",
       "       'frp_p95', 'frp_p97', 'frp_p99', 'frp_first', 'day_max_frp',\n",
       "       'dt_max_frp', 'first_obs_date', 'last_obs_date', 'day_count',\n",
       "       'night_count', 'frp_max_day', 'frp_max_night', 'frp_mean_day',\n",
       "       'frp_mean_night', 'frp_csum_day', 'frp_csum_night', 'frp_p90_day',\n",
       "       'frp_p90_night', 'frp_p95_day', 'frp_p95_night', 'frp_p97_day',\n",
       "       'frp_p97_night', 'frp_p99_day', 'frp_p99_night', 'frp_first_day',\n",
       "       'frp_first_night', 'frp_last_day', 'frp_last_night', 'id'],\n",
       "      dtype='object')"
      ]
     },
     "execution_count": 35,
     "metadata": {},
     "output_type": "execute_result"
    }
   ],
   "source": [
    "fire_grids.columns"
   ]
  },
  {
   "cell_type": "code",
   "execution_count": 36,
   "id": "e6f922a1-4dc6-4afd-a70d-ab43323c4682",
   "metadata": {},
   "outputs": [
    {
     "data": {
      "text/plain": [
       "Index(['id', 'tot_ar_km2', 'ig_year', 'ig_date', 'last_date', 'geometry'], dtype='object')"
      ]
     },
     "execution_count": 36,
     "metadata": {},
     "output_type": "execute_result"
    }
   ],
   "source": [
    "fires.columns"
   ]
  },
  {
   "cell_type": "code",
   "execution_count": null,
   "id": "71214369-456c-4a7f-af95-458ea3aa8e28",
   "metadata": {},
   "outputs": [],
   "source": []
  },
  {
   "cell_type": "code",
   "execution_count": null,
   "id": "b48c3a41-cb73-410e-aa5a-e99b7f04f9b4",
   "metadata": {},
   "outputs": [],
   "source": []
  },
  {
   "cell_type": "code",
   "execution_count": 27,
   "id": "28ad6923-33ba-4c48-8316-1807d966fb19",
   "metadata": {},
   "outputs": [],
   "source": [
    "# Google Earth Engine exports ..."
   ]
  },
  {
   "cell_type": "code",
   "execution_count": 38,
   "id": "d0f5c97f-7b03-4f53-abd9-71b737589fbb",
   "metadata": {},
   "outputs": [
    {
     "name": "stdout",
     "output_type": "stream",
     "text": [
      "id              int64\n",
      "afdID           int64\n",
      "acq_date       object\n",
      "daynight       object\n",
      "Ig_Date        object\n",
      "Last_Date      object\n",
      "geometry     geometry\n",
      "dtype: object\n",
      "Saved to:/Users/nphfi/Desktop/FRP/data/earth-engine/imports/viirs_snpp_jpss1_afd_latlon_fires_pixar.zip\n"
     ]
    },
    {
     "data": {
      "text/plain": [
       "197"
      ]
     },
     "execution_count": 38,
     "metadata": {},
     "output_type": "execute_result"
    }
   ],
   "source": [
    "# Save the pixel ground area data\n",
    "afds_pix_gee = afds_pix.copy()\n",
    "\n",
    "# tidy the date columns\n",
    "afds_pix_gee.rename(columns={\n",
    "    'ig_date': 'Ig_Date', \n",
    "    'last_date': 'Last_Date'\n",
    "}, inplace=True)\n",
    "\n",
    "# convert to string for GEE\n",
    "date_cols = ['acq_date', 'Ig_Date', 'Last_Date']\n",
    "for col in date_cols:\n",
    "    afds_pix_gee[col] = afds_pix_gee[col].dt.date.astype(str)\n",
    "\n",
    "# subset columns\n",
    "afds_pix_gee = afds_pix_gee[['id','afdID','acq_date','daynight',\n",
    "                             'Ig_Date','Last_Date','geometry']]\n",
    "print(afds_pix_gee.dtypes) # make sure the formats are correct\n",
    "\n",
    "# export shapefile\n",
    "out_fp = os.path.join(projdir, 'data/earth-engine/imports/viirs_snpp_jpss1_afd_latlon_fires_pixar.zip')\n",
    "tempdir = os.path.join(projdir, 'data/tempdir')\n",
    "save_zip(afds_pix_gee, out_fp, tempdir) # see __functions.py\n",
    "print(f\"Saved to:{out_fp}\")\n",
    "\n",
    "del afds_pix_gee\n",
    "gc.collect()"
   ]
  },
  {
   "cell_type": "code",
   "execution_count": 29,
   "id": "b761cb21-bfb8-47cc-a05c-fa83194ba5ab",
   "metadata": {},
   "outputs": [
    {
     "name": "stdout",
     "output_type": "stream",
     "text": [
      "There are 100 with >= 10 detections.\n",
      "\n",
      "Saved to:/Users/max/Library/CloudStorage/OneDrive-Personal/mcook/aspen-fire/Aim2/data/earth-engine/imports/srm_fire_census_w_afds_2017to2023.zip\n"
     ]
    }
   ],
   "source": [
    "# also save a fire perimeter dataset for GEE\n",
    "# subset the fire perimeter data\n",
    "# fires with >= 50 detections\n",
    "fires_gee = fires.copy() # work on a copy\n",
    "fires_gee = fires_gee[fires_gee['id'].isin(afds_pix['id'].unique())]\n",
    "print(f\"There are {len(fires_gee)} with >= {n_obs} detections.\")\n",
    "\n",
    "# subset columns\n",
    "fires_gee = fires_gee[['id','ig_year',\n",
    "                       'ig_date','WF_CESSATION_DATE','geometry']]\n",
    "fires_gee.rename(columns={\n",
    "    'START_YEAR': 'Fire_Year', \n",
    "    'DISCOVERY_DATE': 'Ig_Date', \n",
    "    'WF_CESSATION_DATE': 'Last_Date'\n",
    "}, inplace=True)\n",
    "# tidy the date columns\n",
    "fires_gee['Ig_Date'] = fires_gee['Ig_Date'].dt.date.astype(str)\n",
    "fires_gee['Last_Date'] = fires_gee['Last_Date'].dt.date.astype(str)\n",
    "\n",
    "# export the file to a zip archive\n",
    "out_fp = os.path.join(projdir, 'data/earth-engine/imports/srm_fire_census_w_afds_2017to2023.zip')\n",
    "save_zip(fires_gee, out_fp, tempdir) # see __functions.py\n",
    "print(f\"\\nSaved to:{out_fp}\")"
   ]
  },
  {
   "cell_type": "code",
   "execution_count": 30,
   "id": "1f30966d-ca06-4ef5-8e56-56c7cacf6185",
   "metadata": {},
   "outputs": [
    {
     "name": "stdout",
     "output_type": "stream",
     "text": [
      "Exported layer to: /Users/max/Library/CloudStorage/OneDrive-Personal/mcook/aspen-fire/Aim2/data/earth-engine/imports/viirs_snpp_jpss1_afd_gridstats.zip\n",
      "\n",
      "   grid_index Fire_ID  afd_count    max_date   first_obs    last_obs  \\\n",
      "0     1955419      16          1  2022-06-16  2022-06-16  2022-06-16   \n",
      "1     1955420      16          2  2022-06-16  2022-06-14  2022-06-16   \n",
      "2     1955421      16          4  2022-06-15  2022-06-10  2022-06-15   \n",
      "3     1955422      16          7  2022-06-15  2022-06-10  2022-06-15   \n",
      "4     1955423      16          4  2022-06-14  2022-06-10  2022-06-14   \n",
      "\n",
      "                                            geometry Fire_Year     Ig_Date  \\\n",
      "0  POLYGON ((-858421.570 1463991.096, -858046.570...      2022  2022-04-06   \n",
      "1  POLYGON ((-858421.570 1464366.096, -858046.570...      2022  2022-04-06   \n",
      "2  POLYGON ((-858421.570 1464741.096, -858046.570...      2022  2022-04-06   \n",
      "3  POLYGON ((-858421.570 1465116.096, -858046.570...      2022  2022-04-06   \n",
      "4  POLYGON ((-858421.570 1465491.096, -858046.570...      2022  2022-04-06   \n",
      "\n",
      "    Last_Date  \n",
      "0  2022-06-14  \n",
      "1  2022-06-14  \n",
      "2  2022-06-14  \n",
      "3  2022-06-14  \n",
      "4  2022-06-14  \n",
      "\n"
     ]
    }
   ],
   "source": [
    "# Save the gridstats data for GEE\n",
    "fire_grids_gee = fire_grids.copy()\n",
    "\n",
    "# tidy the columns\n",
    "fire_grids_gee = fire_grids_gee[['grid_index','Fire_ID','afd_count',\n",
    "                                 'day_max_frp','first_obs_date','last_obs_date',\n",
    "                                 'geometry']]\n",
    "fire_grids_gee.rename(columns={\n",
    "    'day_max_frp': 'max_date', \n",
    "    'first_obs_date': 'first_obs', \n",
    "    'last_obs_date': 'last_obs'}, inplace=True)\n",
    "    \n",
    "# join in the fire ignition dates\n",
    "fire_grids_gee = fire_grids_gee.merge(fires_gee[['Fire_ID', 'Fire_Year', 'Ig_Date', 'Last_Date']], on='Fire_ID', how='left')\n",
    "\n",
    "# handle date fields for GEE\n",
    "date_cols = ['max_date', 'first_obs', 'last_obs', 'Ig_Date', 'Last_Date']\n",
    "for col in date_cols:\n",
    "    fire_grids_gee[col] = fire_grids_gee[col].astype(str)\n",
    "\n",
    "out_fp = os.path.join(projdir,'data/earth-engine/imports/viirs_snpp_jpss1_afd_gridstats.zip')\n",
    "save_zip(fire_grids_gee, out_fp, tempdir) # see __functions.py\n",
    "print(f\"Exported layer to: {out_fp}\")\n",
    "\n",
    "print(f\"\\n{fire_grids_gee.head()}\\n\")"
   ]
  },
  {
   "cell_type": "code",
   "execution_count": 31,
   "id": "3ddb11dc-0a55-4168-ae67-049f1f6d14fc",
   "metadata": {},
   "outputs": [
    {
     "name": "stdout",
     "output_type": "stream",
     "text": [
      "Index(['Fire_ID', 'first_obs', 'geometry', 'grid_index', 'afd_count',\n",
      "       'max_date', 'last_obs', 'Fire_Year', 'Ig_Date', 'Last_Date'],\n",
      "      dtype='object')\n",
      "Exported layer to: /Users/max/Library/CloudStorage/OneDrive-Personal/mcook/aspen-fire/Aim2/data/earth-engine/imports/viirs_snpp_jpss1_afd_gridstats_days.zip\n"
     ]
    },
    {
     "data": {
      "text/plain": [
       "0"
      ]
     },
     "execution_count": 31,
     "metadata": {},
     "output_type": "execute_result"
    }
   ],
   "source": [
    "# Create a dissolved grid by day of first detection for GridMET analysis\n",
    "# Dissolve by first_obs\n",
    "grid_gee_dis = fire_grids_gee.dissolve(by=['Fire_ID','first_obs'])\n",
    "# Reset the index to make `first_obs` a regular column\n",
    "grid_gee_dis = grid_gee_dis.reset_index()\n",
    "print(grid_gee_dis.columns)\n",
    "\n",
    "# Save this file out.\n",
    "out_fp = os.path.join(projdir,'data/earth-engine/imports/viirs_snpp_jpss1_afd_gridstats_days.zip')\n",
    "save_zip(grid_gee_dis, out_fp, tempdir) # see __functions.py\n",
    "print(f\"Exported layer to: {out_fp}\")\n",
    "\n",
    "del fire_grids_gee, fires_gee, grid_gee_dis\n",
    "gc.collect()"
   ]
  },
  {
   "cell_type": "code",
   "execution_count": 32,
   "id": "2ec28c10-c8ab-49f9-915f-8647b04560f0",
   "metadata": {},
   "outputs": [
    {
     "data": {
      "text/plain": [
       "Index(['Fire_ID', 'Fire_Name', 'Final_Acres', 'INCIDENT_ID', 'START_YEAR',\n",
       "       'DISCOVERY_DATE', 'WF_CESSATION_DATE', 'ICS_ACRES', 'geometry'],\n",
       "      dtype='object')"
      ]
     },
     "execution_count": 32,
     "metadata": {},
     "output_type": "execute_result"
    }
   ],
   "source": [
    "fires.columns"
   ]
  },
  {
   "cell_type": "code",
   "execution_count": 33,
   "id": "39e2a458-57b8-41c8-b89b-f325d5a31210",
   "metadata": {},
   "outputs": [
    {
     "name": "stdout",
     "output_type": "stream",
     "text": [
      "  Fire_ID                 Fire_Name     Ig_Date   Last_Date Fire_Year  \\\n",
      "0      16  CALF CANYON-HERMITS PEAK  2022-04-06  2022-06-14      2022   \n",
      "1      48              CAMERON PEAK  2020-08-13  2020-10-17      2020   \n",
      "2      89          EAST TROUBLESOME  2020-10-14  2020-10-23      2020   \n",
      "3      90                    MULLEN  2020-09-17  2020-10-08      2020   \n",
      "4     110              SPRING CREEK  2018-06-27  2018-07-05      2018   \n",
      "\n",
      "  Start_Day End_Day                                           geometry  \n",
      "0       152     258  POLYGON ((-864174.742 1425437.251, -864174.742...  \n",
      "1       152     258  POLYGON ((-836323.213 1973512.067, -836323.213...  \n",
      "2       152     258  POLYGON ((-870424.136 1940223.461, -870424.136...  \n",
      "3       152     258  POLYGON ((-876529.011 2032693.362, -876529.011...  \n",
      "4       152     258  POLYGON ((-818459.577 1629838.059, -818459.577...  \n",
      "Exported layer to: /Users/max/Library/CloudStorage/OneDrive-Personal/mcook/aspen-fire/Aim2/data/earth-engine/imports/srm_fire_census_2017_to_2023_bounds.zip\n"
     ]
    }
   ],
   "source": [
    "# Create the fire bounds for GEE CBI export\n",
    "bounds = fires.copy()\n",
    "# Create the bounds with a generous buffer\n",
    "bounds['geometry'] = bounds.geometry.envelope.buffer(3000)\n",
    "\n",
    "# Load state boundaries\n",
    "states = os.path.join(maindir, 'data/boundaries/political/TIGER/tl19_us_states_w_ak_lambert.gpkg')\n",
    "states = gpd.read_file(states)\n",
    "states = states.to_crs('EPSG:5070')\n",
    "\n",
    "# Grab the fire centroid\n",
    "centroid = bounds.copy()\n",
    "centroid['geometry'] = centroid.geometry.centroid\n",
    "fire_state = gpd.overlay(centroid[['Fire_ID','geometry']], states[['STUSPS','geometry']], how='intersection')\n",
    "fire_state = fire_state[['Fire_ID','STUSPS']]\n",
    "bounds = pd.merge(bounds, fire_state, on='Fire_ID', how='left')\n",
    "\n",
    "# Assign the Parks et al. (2019) start and end days\n",
    "special_case = ['Arizona', 'New Mexico']\n",
    "bounds['Start_Day'] = None\n",
    "bounds['End_Day'] = None    \n",
    "bounds.loc[bounds['STUSPS'].isin(special_case), ['Start_Day', 'End_Day']] = (91, 181)\n",
    "bounds.loc[~bounds['STUSPS'].isin(special_case), ['Start_Day', 'End_Day']] = (152, 258)\n",
    "# Tidy the columns for exporting\n",
    "bounds = bounds[['Fire_ID','Fire_Name','DISCOVERY_DATE','WF_CESSATION_DATE','START_YEAR','Start_Day','End_Day','geometry']]\n",
    "bounds.rename(columns={\n",
    "    'START_YEAR': 'Fire_Year',\n",
    "    'DISCOVERY_DATE': 'Ig_Date',\n",
    "    'WF_CESSATION_DATE': 'Last_Date'\n",
    "}, inplace=True)\n",
    "bounds['Ig_Date'] = bounds['Ig_Date'].dt.date.astype(str)\n",
    "bounds['Last_Date'] = bounds['Last_Date'].dt.date.astype(str)\n",
    "print(bounds.head())\n",
    "\n",
    "# Export to a zipfile\n",
    "out_fp = os.path.join(projdir,'data/earth-engine/imports/srm_fire_census_2017_to_2023_bounds.zip')\n",
    "save_zip(bounds, out_fp, tempdir) # see __functions.py\n",
    "print(f\"Exported layer to: {out_fp}\")"
   ]
  },
  {
   "cell_type": "code",
   "execution_count": 34,
   "id": "ef6bc625-d0df-4969-9e68-b206021a1a3d",
   "metadata": {},
   "outputs": [
    {
     "data": {
      "text/plain": [
       "44"
      ]
     },
     "execution_count": 34,
     "metadata": {},
     "output_type": "execute_result"
    }
   ],
   "source": [
    "gc.collect()"
   ]
  }
 ],
 "metadata": {
  "kernelspec": {
   "display_name": "base",
   "language": "python",
   "name": "python3"
  },
  "language_info": {
   "codemirror_mode": {
    "name": "ipython",
    "version": 3
   },
   "file_extension": ".py",
   "mimetype": "text/x-python",
   "name": "python",
   "nbconvert_exporter": "python",
   "pygments_lexer": "ipython3",
   "version": "3.12.2"
  }
 },
 "nbformat": 4,
 "nbformat_minor": 5
}
